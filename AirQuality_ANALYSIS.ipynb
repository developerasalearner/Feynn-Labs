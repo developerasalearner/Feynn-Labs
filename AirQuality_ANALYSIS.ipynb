{
 "cells": [
  {
   "cell_type": "code",
   "execution_count": 1,
   "metadata": {
    "executionInfo": {
     "elapsed": 149,
     "status": "ok",
     "timestamp": 1696177728316,
     "user": {
      "displayName": "CHINMAYA KUMAR PALO",
      "userId": "02836757995076046470"
     },
     "user_tz": -330
    },
    "id": "tGEPsXL5HmDf"
   },
   "outputs": [],
   "source": [
    "import numpy as np\n",
    "import pandas as pd\n",
    "import seaborn as sns\n",
    "import matplotlib.pyplot as plt"
   ]
  },
  {
   "cell_type": "code",
   "execution_count": 2,
   "metadata": {
    "executionInfo": {
     "elapsed": 148,
     "status": "ok",
     "timestamp": 1696177728316,
     "user": {
      "displayName": "CHINMAYA KUMAR PALO",
      "userId": "02836757995076046470"
     },
     "user_tz": -330
    },
    "id": "2Zc_RAGDofd1"
   },
   "outputs": [],
   "source": [
    "data = pd.read_csv(r'/Users/chinmayakumarpalo/Desktop/Book_chap/AirQuality_Analysis/city_day.csv')"
   ]
  },
  {
   "cell_type": "code",
   "execution_count": 3,
   "metadata": {
    "colab": {
     "base_uri": "https://localhost:8080/",
     "height": 424
    },
    "executionInfo": {
     "elapsed": 148,
     "status": "ok",
     "timestamp": 1696177728316,
     "user": {
      "displayName": "CHINMAYA KUMAR PALO",
      "userId": "02836757995076046470"
     },
     "user_tz": -330
    },
    "id": "xNCFrzwuIVIJ",
    "outputId": "dfa6f932-15d5-4baa-f378-2f0794ba74e3"
   },
   "outputs": [
    {
     "data": {
      "text/html": [
       "<div>\n",
       "<style scoped>\n",
       "    .dataframe tbody tr th:only-of-type {\n",
       "        vertical-align: middle;\n",
       "    }\n",
       "\n",
       "    .dataframe tbody tr th {\n",
       "        vertical-align: top;\n",
       "    }\n",
       "\n",
       "    .dataframe thead th {\n",
       "        text-align: right;\n",
       "    }\n",
       "</style>\n",
       "<table border=\"1\" class=\"dataframe\">\n",
       "  <thead>\n",
       "    <tr style=\"text-align: right;\">\n",
       "      <th></th>\n",
       "      <th>City</th>\n",
       "      <th>Date</th>\n",
       "      <th>PM2.5</th>\n",
       "      <th>PM10</th>\n",
       "      <th>NO</th>\n",
       "      <th>NO2</th>\n",
       "      <th>NOx</th>\n",
       "      <th>NH3</th>\n",
       "      <th>CO</th>\n",
       "      <th>SO2</th>\n",
       "      <th>O3</th>\n",
       "      <th>Benzene</th>\n",
       "      <th>Toluene</th>\n",
       "      <th>Xylene</th>\n",
       "      <th>AQI</th>\n",
       "      <th>AQI_Bucket</th>\n",
       "    </tr>\n",
       "  </thead>\n",
       "  <tbody>\n",
       "    <tr>\n",
       "      <th>0</th>\n",
       "      <td>Ahmedabad</td>\n",
       "      <td>2015-01-01</td>\n",
       "      <td>NaN</td>\n",
       "      <td>NaN</td>\n",
       "      <td>0.92</td>\n",
       "      <td>18.22</td>\n",
       "      <td>17.15</td>\n",
       "      <td>NaN</td>\n",
       "      <td>0.92</td>\n",
       "      <td>27.64</td>\n",
       "      <td>133.36</td>\n",
       "      <td>0.00</td>\n",
       "      <td>0.02</td>\n",
       "      <td>0.00</td>\n",
       "      <td>NaN</td>\n",
       "      <td>NaN</td>\n",
       "    </tr>\n",
       "    <tr>\n",
       "      <th>1</th>\n",
       "      <td>Ahmedabad</td>\n",
       "      <td>2015-01-02</td>\n",
       "      <td>NaN</td>\n",
       "      <td>NaN</td>\n",
       "      <td>0.97</td>\n",
       "      <td>15.69</td>\n",
       "      <td>16.46</td>\n",
       "      <td>NaN</td>\n",
       "      <td>0.97</td>\n",
       "      <td>24.55</td>\n",
       "      <td>34.06</td>\n",
       "      <td>3.68</td>\n",
       "      <td>5.50</td>\n",
       "      <td>3.77</td>\n",
       "      <td>NaN</td>\n",
       "      <td>NaN</td>\n",
       "    </tr>\n",
       "    <tr>\n",
       "      <th>2</th>\n",
       "      <td>Ahmedabad</td>\n",
       "      <td>2015-01-03</td>\n",
       "      <td>NaN</td>\n",
       "      <td>NaN</td>\n",
       "      <td>17.40</td>\n",
       "      <td>19.30</td>\n",
       "      <td>29.70</td>\n",
       "      <td>NaN</td>\n",
       "      <td>17.40</td>\n",
       "      <td>29.07</td>\n",
       "      <td>30.70</td>\n",
       "      <td>6.80</td>\n",
       "      <td>16.40</td>\n",
       "      <td>2.25</td>\n",
       "      <td>NaN</td>\n",
       "      <td>NaN</td>\n",
       "    </tr>\n",
       "    <tr>\n",
       "      <th>3</th>\n",
       "      <td>Ahmedabad</td>\n",
       "      <td>2015-01-04</td>\n",
       "      <td>NaN</td>\n",
       "      <td>NaN</td>\n",
       "      <td>1.70</td>\n",
       "      <td>18.48</td>\n",
       "      <td>17.97</td>\n",
       "      <td>NaN</td>\n",
       "      <td>1.70</td>\n",
       "      <td>18.59</td>\n",
       "      <td>36.08</td>\n",
       "      <td>4.43</td>\n",
       "      <td>10.14</td>\n",
       "      <td>1.00</td>\n",
       "      <td>NaN</td>\n",
       "      <td>NaN</td>\n",
       "    </tr>\n",
       "    <tr>\n",
       "      <th>4</th>\n",
       "      <td>Ahmedabad</td>\n",
       "      <td>2015-01-05</td>\n",
       "      <td>NaN</td>\n",
       "      <td>NaN</td>\n",
       "      <td>22.10</td>\n",
       "      <td>21.42</td>\n",
       "      <td>37.76</td>\n",
       "      <td>NaN</td>\n",
       "      <td>22.10</td>\n",
       "      <td>39.33</td>\n",
       "      <td>39.31</td>\n",
       "      <td>7.01</td>\n",
       "      <td>18.89</td>\n",
       "      <td>2.78</td>\n",
       "      <td>NaN</td>\n",
       "      <td>NaN</td>\n",
       "    </tr>\n",
       "    <tr>\n",
       "      <th>...</th>\n",
       "      <td>...</td>\n",
       "      <td>...</td>\n",
       "      <td>...</td>\n",
       "      <td>...</td>\n",
       "      <td>...</td>\n",
       "      <td>...</td>\n",
       "      <td>...</td>\n",
       "      <td>...</td>\n",
       "      <td>...</td>\n",
       "      <td>...</td>\n",
       "      <td>...</td>\n",
       "      <td>...</td>\n",
       "      <td>...</td>\n",
       "      <td>...</td>\n",
       "      <td>...</td>\n",
       "      <td>...</td>\n",
       "    </tr>\n",
       "    <tr>\n",
       "      <th>29526</th>\n",
       "      <td>Visakhapatnam</td>\n",
       "      <td>2020-06-27</td>\n",
       "      <td>15.02</td>\n",
       "      <td>50.94</td>\n",
       "      <td>7.68</td>\n",
       "      <td>25.06</td>\n",
       "      <td>19.54</td>\n",
       "      <td>12.47</td>\n",
       "      <td>0.47</td>\n",
       "      <td>8.55</td>\n",
       "      <td>23.30</td>\n",
       "      <td>2.24</td>\n",
       "      <td>12.07</td>\n",
       "      <td>0.73</td>\n",
       "      <td>41.0</td>\n",
       "      <td>Good</td>\n",
       "    </tr>\n",
       "    <tr>\n",
       "      <th>29527</th>\n",
       "      <td>Visakhapatnam</td>\n",
       "      <td>2020-06-28</td>\n",
       "      <td>24.38</td>\n",
       "      <td>74.09</td>\n",
       "      <td>3.42</td>\n",
       "      <td>26.06</td>\n",
       "      <td>16.53</td>\n",
       "      <td>11.99</td>\n",
       "      <td>0.52</td>\n",
       "      <td>12.72</td>\n",
       "      <td>30.14</td>\n",
       "      <td>0.74</td>\n",
       "      <td>2.21</td>\n",
       "      <td>0.38</td>\n",
       "      <td>70.0</td>\n",
       "      <td>Satisfactory</td>\n",
       "    </tr>\n",
       "    <tr>\n",
       "      <th>29528</th>\n",
       "      <td>Visakhapatnam</td>\n",
       "      <td>2020-06-29</td>\n",
       "      <td>22.91</td>\n",
       "      <td>65.73</td>\n",
       "      <td>3.45</td>\n",
       "      <td>29.53</td>\n",
       "      <td>18.33</td>\n",
       "      <td>10.71</td>\n",
       "      <td>0.48</td>\n",
       "      <td>8.42</td>\n",
       "      <td>30.96</td>\n",
       "      <td>0.01</td>\n",
       "      <td>0.01</td>\n",
       "      <td>0.00</td>\n",
       "      <td>68.0</td>\n",
       "      <td>Satisfactory</td>\n",
       "    </tr>\n",
       "    <tr>\n",
       "      <th>29529</th>\n",
       "      <td>Visakhapatnam</td>\n",
       "      <td>2020-06-30</td>\n",
       "      <td>16.64</td>\n",
       "      <td>49.97</td>\n",
       "      <td>4.05</td>\n",
       "      <td>29.26</td>\n",
       "      <td>18.80</td>\n",
       "      <td>10.03</td>\n",
       "      <td>0.52</td>\n",
       "      <td>9.84</td>\n",
       "      <td>28.30</td>\n",
       "      <td>0.00</td>\n",
       "      <td>0.00</td>\n",
       "      <td>0.00</td>\n",
       "      <td>54.0</td>\n",
       "      <td>Satisfactory</td>\n",
       "    </tr>\n",
       "    <tr>\n",
       "      <th>29530</th>\n",
       "      <td>Visakhapatnam</td>\n",
       "      <td>2020-07-01</td>\n",
       "      <td>15.00</td>\n",
       "      <td>66.00</td>\n",
       "      <td>0.40</td>\n",
       "      <td>26.85</td>\n",
       "      <td>14.05</td>\n",
       "      <td>5.20</td>\n",
       "      <td>0.59</td>\n",
       "      <td>2.10</td>\n",
       "      <td>17.05</td>\n",
       "      <td>NaN</td>\n",
       "      <td>NaN</td>\n",
       "      <td>NaN</td>\n",
       "      <td>50.0</td>\n",
       "      <td>Good</td>\n",
       "    </tr>\n",
       "  </tbody>\n",
       "</table>\n",
       "<p>29531 rows × 16 columns</p>\n",
       "</div>"
      ],
      "text/plain": [
       "                City        Date  PM2.5   PM10     NO    NO2    NOx    NH3  \\\n",
       "0          Ahmedabad  2015-01-01    NaN    NaN   0.92  18.22  17.15    NaN   \n",
       "1          Ahmedabad  2015-01-02    NaN    NaN   0.97  15.69  16.46    NaN   \n",
       "2          Ahmedabad  2015-01-03    NaN    NaN  17.40  19.30  29.70    NaN   \n",
       "3          Ahmedabad  2015-01-04    NaN    NaN   1.70  18.48  17.97    NaN   \n",
       "4          Ahmedabad  2015-01-05    NaN    NaN  22.10  21.42  37.76    NaN   \n",
       "...              ...         ...    ...    ...    ...    ...    ...    ...   \n",
       "29526  Visakhapatnam  2020-06-27  15.02  50.94   7.68  25.06  19.54  12.47   \n",
       "29527  Visakhapatnam  2020-06-28  24.38  74.09   3.42  26.06  16.53  11.99   \n",
       "29528  Visakhapatnam  2020-06-29  22.91  65.73   3.45  29.53  18.33  10.71   \n",
       "29529  Visakhapatnam  2020-06-30  16.64  49.97   4.05  29.26  18.80  10.03   \n",
       "29530  Visakhapatnam  2020-07-01  15.00  66.00   0.40  26.85  14.05   5.20   \n",
       "\n",
       "          CO    SO2      O3  Benzene  Toluene  Xylene   AQI    AQI_Bucket  \n",
       "0       0.92  27.64  133.36     0.00     0.02    0.00   NaN           NaN  \n",
       "1       0.97  24.55   34.06     3.68     5.50    3.77   NaN           NaN  \n",
       "2      17.40  29.07   30.70     6.80    16.40    2.25   NaN           NaN  \n",
       "3       1.70  18.59   36.08     4.43    10.14    1.00   NaN           NaN  \n",
       "4      22.10  39.33   39.31     7.01    18.89    2.78   NaN           NaN  \n",
       "...      ...    ...     ...      ...      ...     ...   ...           ...  \n",
       "29526   0.47   8.55   23.30     2.24    12.07    0.73  41.0          Good  \n",
       "29527   0.52  12.72   30.14     0.74     2.21    0.38  70.0  Satisfactory  \n",
       "29528   0.48   8.42   30.96     0.01     0.01    0.00  68.0  Satisfactory  \n",
       "29529   0.52   9.84   28.30     0.00     0.00    0.00  54.0  Satisfactory  \n",
       "29530   0.59   2.10   17.05      NaN      NaN     NaN  50.0          Good  \n",
       "\n",
       "[29531 rows x 16 columns]"
      ]
     },
     "execution_count": 3,
     "metadata": {},
     "output_type": "execute_result"
    }
   ],
   "source": [
    "data"
   ]
  },
  {
   "cell_type": "code",
   "execution_count": 4,
   "metadata": {
    "colab": {
     "base_uri": "https://localhost:8080/",
     "height": 206
    },
    "executionInfo": {
     "elapsed": 145,
     "status": "ok",
     "timestamp": 1696177728316,
     "user": {
      "displayName": "CHINMAYA KUMAR PALO",
      "userId": "02836757995076046470"
     },
     "user_tz": -330
    },
    "id": "4Lz6eQCgIW84",
    "outputId": "4897ca2a-94be-449d-fe17-15bbf3e3ef59"
   },
   "outputs": [
    {
     "data": {
      "text/html": [
       "<div>\n",
       "<style scoped>\n",
       "    .dataframe tbody tr th:only-of-type {\n",
       "        vertical-align: middle;\n",
       "    }\n",
       "\n",
       "    .dataframe tbody tr th {\n",
       "        vertical-align: top;\n",
       "    }\n",
       "\n",
       "    .dataframe thead th {\n",
       "        text-align: right;\n",
       "    }\n",
       "</style>\n",
       "<table border=\"1\" class=\"dataframe\">\n",
       "  <thead>\n",
       "    <tr style=\"text-align: right;\">\n",
       "      <th></th>\n",
       "      <th>City</th>\n",
       "      <th>Date</th>\n",
       "      <th>PM2.5</th>\n",
       "      <th>PM10</th>\n",
       "      <th>NO</th>\n",
       "      <th>NO2</th>\n",
       "      <th>NOx</th>\n",
       "      <th>NH3</th>\n",
       "      <th>CO</th>\n",
       "      <th>SO2</th>\n",
       "      <th>O3</th>\n",
       "      <th>Benzene</th>\n",
       "      <th>Toluene</th>\n",
       "      <th>Xylene</th>\n",
       "      <th>AQI</th>\n",
       "      <th>AQI_Bucket</th>\n",
       "    </tr>\n",
       "  </thead>\n",
       "  <tbody>\n",
       "    <tr>\n",
       "      <th>0</th>\n",
       "      <td>Ahmedabad</td>\n",
       "      <td>2015-01-01</td>\n",
       "      <td>NaN</td>\n",
       "      <td>NaN</td>\n",
       "      <td>0.92</td>\n",
       "      <td>18.22</td>\n",
       "      <td>17.15</td>\n",
       "      <td>NaN</td>\n",
       "      <td>0.92</td>\n",
       "      <td>27.64</td>\n",
       "      <td>133.36</td>\n",
       "      <td>0.00</td>\n",
       "      <td>0.02</td>\n",
       "      <td>0.00</td>\n",
       "      <td>NaN</td>\n",
       "      <td>NaN</td>\n",
       "    </tr>\n",
       "    <tr>\n",
       "      <th>1</th>\n",
       "      <td>Ahmedabad</td>\n",
       "      <td>2015-01-02</td>\n",
       "      <td>NaN</td>\n",
       "      <td>NaN</td>\n",
       "      <td>0.97</td>\n",
       "      <td>15.69</td>\n",
       "      <td>16.46</td>\n",
       "      <td>NaN</td>\n",
       "      <td>0.97</td>\n",
       "      <td>24.55</td>\n",
       "      <td>34.06</td>\n",
       "      <td>3.68</td>\n",
       "      <td>5.50</td>\n",
       "      <td>3.77</td>\n",
       "      <td>NaN</td>\n",
       "      <td>NaN</td>\n",
       "    </tr>\n",
       "    <tr>\n",
       "      <th>2</th>\n",
       "      <td>Ahmedabad</td>\n",
       "      <td>2015-01-03</td>\n",
       "      <td>NaN</td>\n",
       "      <td>NaN</td>\n",
       "      <td>17.40</td>\n",
       "      <td>19.30</td>\n",
       "      <td>29.70</td>\n",
       "      <td>NaN</td>\n",
       "      <td>17.40</td>\n",
       "      <td>29.07</td>\n",
       "      <td>30.70</td>\n",
       "      <td>6.80</td>\n",
       "      <td>16.40</td>\n",
       "      <td>2.25</td>\n",
       "      <td>NaN</td>\n",
       "      <td>NaN</td>\n",
       "    </tr>\n",
       "    <tr>\n",
       "      <th>3</th>\n",
       "      <td>Ahmedabad</td>\n",
       "      <td>2015-01-04</td>\n",
       "      <td>NaN</td>\n",
       "      <td>NaN</td>\n",
       "      <td>1.70</td>\n",
       "      <td>18.48</td>\n",
       "      <td>17.97</td>\n",
       "      <td>NaN</td>\n",
       "      <td>1.70</td>\n",
       "      <td>18.59</td>\n",
       "      <td>36.08</td>\n",
       "      <td>4.43</td>\n",
       "      <td>10.14</td>\n",
       "      <td>1.00</td>\n",
       "      <td>NaN</td>\n",
       "      <td>NaN</td>\n",
       "    </tr>\n",
       "    <tr>\n",
       "      <th>4</th>\n",
       "      <td>Ahmedabad</td>\n",
       "      <td>2015-01-05</td>\n",
       "      <td>NaN</td>\n",
       "      <td>NaN</td>\n",
       "      <td>22.10</td>\n",
       "      <td>21.42</td>\n",
       "      <td>37.76</td>\n",
       "      <td>NaN</td>\n",
       "      <td>22.10</td>\n",
       "      <td>39.33</td>\n",
       "      <td>39.31</td>\n",
       "      <td>7.01</td>\n",
       "      <td>18.89</td>\n",
       "      <td>2.78</td>\n",
       "      <td>NaN</td>\n",
       "      <td>NaN</td>\n",
       "    </tr>\n",
       "  </tbody>\n",
       "</table>\n",
       "</div>"
      ],
      "text/plain": [
       "        City        Date  PM2.5  PM10     NO    NO2    NOx  NH3     CO    SO2  \\\n",
       "0  Ahmedabad  2015-01-01    NaN   NaN   0.92  18.22  17.15  NaN   0.92  27.64   \n",
       "1  Ahmedabad  2015-01-02    NaN   NaN   0.97  15.69  16.46  NaN   0.97  24.55   \n",
       "2  Ahmedabad  2015-01-03    NaN   NaN  17.40  19.30  29.70  NaN  17.40  29.07   \n",
       "3  Ahmedabad  2015-01-04    NaN   NaN   1.70  18.48  17.97  NaN   1.70  18.59   \n",
       "4  Ahmedabad  2015-01-05    NaN   NaN  22.10  21.42  37.76  NaN  22.10  39.33   \n",
       "\n",
       "       O3  Benzene  Toluene  Xylene  AQI AQI_Bucket  \n",
       "0  133.36     0.00     0.02    0.00  NaN        NaN  \n",
       "1   34.06     3.68     5.50    3.77  NaN        NaN  \n",
       "2   30.70     6.80    16.40    2.25  NaN        NaN  \n",
       "3   36.08     4.43    10.14    1.00  NaN        NaN  \n",
       "4   39.31     7.01    18.89    2.78  NaN        NaN  "
      ]
     },
     "execution_count": 4,
     "metadata": {},
     "output_type": "execute_result"
    }
   ],
   "source": [
    "data.head()"
   ]
  },
  {
   "cell_type": "code",
   "execution_count": 5,
   "metadata": {
    "colab": {
     "base_uri": "https://localhost:8080/",
     "height": 206
    },
    "executionInfo": {
     "elapsed": 143,
     "status": "ok",
     "timestamp": 1696177728316,
     "user": {
      "displayName": "CHINMAYA KUMAR PALO",
      "userId": "02836757995076046470"
     },
     "user_tz": -330
    },
    "id": "6qPysX9eKbCG",
    "outputId": "b42e4ee3-abc0-4c3d-e02d-f00bc9778426"
   },
   "outputs": [
    {
     "data": {
      "text/html": [
       "<div>\n",
       "<style scoped>\n",
       "    .dataframe tbody tr th:only-of-type {\n",
       "        vertical-align: middle;\n",
       "    }\n",
       "\n",
       "    .dataframe tbody tr th {\n",
       "        vertical-align: top;\n",
       "    }\n",
       "\n",
       "    .dataframe thead th {\n",
       "        text-align: right;\n",
       "    }\n",
       "</style>\n",
       "<table border=\"1\" class=\"dataframe\">\n",
       "  <thead>\n",
       "    <tr style=\"text-align: right;\">\n",
       "      <th></th>\n",
       "      <th>City</th>\n",
       "      <th>Date</th>\n",
       "      <th>PM2.5</th>\n",
       "      <th>PM10</th>\n",
       "      <th>NO</th>\n",
       "      <th>NO2</th>\n",
       "      <th>NOx</th>\n",
       "      <th>NH3</th>\n",
       "      <th>CO</th>\n",
       "      <th>SO2</th>\n",
       "      <th>O3</th>\n",
       "      <th>Benzene</th>\n",
       "      <th>Toluene</th>\n",
       "      <th>Xylene</th>\n",
       "      <th>AQI</th>\n",
       "      <th>AQI_Bucket</th>\n",
       "    </tr>\n",
       "  </thead>\n",
       "  <tbody>\n",
       "    <tr>\n",
       "      <th>29526</th>\n",
       "      <td>Visakhapatnam</td>\n",
       "      <td>2020-06-27</td>\n",
       "      <td>15.02</td>\n",
       "      <td>50.94</td>\n",
       "      <td>7.68</td>\n",
       "      <td>25.06</td>\n",
       "      <td>19.54</td>\n",
       "      <td>12.47</td>\n",
       "      <td>0.47</td>\n",
       "      <td>8.55</td>\n",
       "      <td>23.30</td>\n",
       "      <td>2.24</td>\n",
       "      <td>12.07</td>\n",
       "      <td>0.73</td>\n",
       "      <td>41.0</td>\n",
       "      <td>Good</td>\n",
       "    </tr>\n",
       "    <tr>\n",
       "      <th>29527</th>\n",
       "      <td>Visakhapatnam</td>\n",
       "      <td>2020-06-28</td>\n",
       "      <td>24.38</td>\n",
       "      <td>74.09</td>\n",
       "      <td>3.42</td>\n",
       "      <td>26.06</td>\n",
       "      <td>16.53</td>\n",
       "      <td>11.99</td>\n",
       "      <td>0.52</td>\n",
       "      <td>12.72</td>\n",
       "      <td>30.14</td>\n",
       "      <td>0.74</td>\n",
       "      <td>2.21</td>\n",
       "      <td>0.38</td>\n",
       "      <td>70.0</td>\n",
       "      <td>Satisfactory</td>\n",
       "    </tr>\n",
       "    <tr>\n",
       "      <th>29528</th>\n",
       "      <td>Visakhapatnam</td>\n",
       "      <td>2020-06-29</td>\n",
       "      <td>22.91</td>\n",
       "      <td>65.73</td>\n",
       "      <td>3.45</td>\n",
       "      <td>29.53</td>\n",
       "      <td>18.33</td>\n",
       "      <td>10.71</td>\n",
       "      <td>0.48</td>\n",
       "      <td>8.42</td>\n",
       "      <td>30.96</td>\n",
       "      <td>0.01</td>\n",
       "      <td>0.01</td>\n",
       "      <td>0.00</td>\n",
       "      <td>68.0</td>\n",
       "      <td>Satisfactory</td>\n",
       "    </tr>\n",
       "    <tr>\n",
       "      <th>29529</th>\n",
       "      <td>Visakhapatnam</td>\n",
       "      <td>2020-06-30</td>\n",
       "      <td>16.64</td>\n",
       "      <td>49.97</td>\n",
       "      <td>4.05</td>\n",
       "      <td>29.26</td>\n",
       "      <td>18.80</td>\n",
       "      <td>10.03</td>\n",
       "      <td>0.52</td>\n",
       "      <td>9.84</td>\n",
       "      <td>28.30</td>\n",
       "      <td>0.00</td>\n",
       "      <td>0.00</td>\n",
       "      <td>0.00</td>\n",
       "      <td>54.0</td>\n",
       "      <td>Satisfactory</td>\n",
       "    </tr>\n",
       "    <tr>\n",
       "      <th>29530</th>\n",
       "      <td>Visakhapatnam</td>\n",
       "      <td>2020-07-01</td>\n",
       "      <td>15.00</td>\n",
       "      <td>66.00</td>\n",
       "      <td>0.40</td>\n",
       "      <td>26.85</td>\n",
       "      <td>14.05</td>\n",
       "      <td>5.20</td>\n",
       "      <td>0.59</td>\n",
       "      <td>2.10</td>\n",
       "      <td>17.05</td>\n",
       "      <td>NaN</td>\n",
       "      <td>NaN</td>\n",
       "      <td>NaN</td>\n",
       "      <td>50.0</td>\n",
       "      <td>Good</td>\n",
       "    </tr>\n",
       "  </tbody>\n",
       "</table>\n",
       "</div>"
      ],
      "text/plain": [
       "                City        Date  PM2.5   PM10    NO    NO2    NOx    NH3  \\\n",
       "29526  Visakhapatnam  2020-06-27  15.02  50.94  7.68  25.06  19.54  12.47   \n",
       "29527  Visakhapatnam  2020-06-28  24.38  74.09  3.42  26.06  16.53  11.99   \n",
       "29528  Visakhapatnam  2020-06-29  22.91  65.73  3.45  29.53  18.33  10.71   \n",
       "29529  Visakhapatnam  2020-06-30  16.64  49.97  4.05  29.26  18.80  10.03   \n",
       "29530  Visakhapatnam  2020-07-01  15.00  66.00  0.40  26.85  14.05   5.20   \n",
       "\n",
       "         CO    SO2     O3  Benzene  Toluene  Xylene   AQI    AQI_Bucket  \n",
       "29526  0.47   8.55  23.30     2.24    12.07    0.73  41.0          Good  \n",
       "29527  0.52  12.72  30.14     0.74     2.21    0.38  70.0  Satisfactory  \n",
       "29528  0.48   8.42  30.96     0.01     0.01    0.00  68.0  Satisfactory  \n",
       "29529  0.52   9.84  28.30     0.00     0.00    0.00  54.0  Satisfactory  \n",
       "29530  0.59   2.10  17.05      NaN      NaN     NaN  50.0          Good  "
      ]
     },
     "execution_count": 5,
     "metadata": {},
     "output_type": "execute_result"
    }
   ],
   "source": [
    "data.tail()"
   ]
  },
  {
   "cell_type": "code",
   "execution_count": 6,
   "metadata": {
    "colab": {
     "base_uri": "https://localhost:8080/"
    },
    "executionInfo": {
     "elapsed": 142,
     "status": "ok",
     "timestamp": 1696177728316,
     "user": {
      "displayName": "CHINMAYA KUMAR PALO",
      "userId": "02836757995076046470"
     },
     "user_tz": -330
    },
    "id": "n8JS6ZyeKcX0",
    "outputId": "d6c8a7bc-896b-4607-8b71-aa8bfdde813b"
   },
   "outputs": [
    {
     "data": {
      "text/plain": [
       "Index(['City', 'Date', 'PM2.5', 'PM10', 'NO', 'NO2', 'NOx', 'NH3', 'CO', 'SO2',\n",
       "       'O3', 'Benzene', 'Toluene', 'Xylene', 'AQI', 'AQI_Bucket'],\n",
       "      dtype='object')"
      ]
     },
     "execution_count": 6,
     "metadata": {},
     "output_type": "execute_result"
    }
   ],
   "source": [
    "data.columns"
   ]
  },
  {
   "cell_type": "code",
   "execution_count": 7,
   "metadata": {
    "colab": {
     "base_uri": "https://localhost:8080/"
    },
    "executionInfo": {
     "elapsed": 140,
     "status": "ok",
     "timestamp": 1696177728316,
     "user": {
      "displayName": "CHINMAYA KUMAR PALO",
      "userId": "02836757995076046470"
     },
     "user_tz": -330
    },
    "id": "C-DbXqXGKn95",
    "outputId": "e36f5b46-be2e-4e52-d440-66f5b2a61cd8"
   },
   "outputs": [
    {
     "name": "stdout",
     "output_type": "stream",
     "text": [
      "<class 'pandas.core.frame.DataFrame'>\n",
      "RangeIndex: 29531 entries, 0 to 29530\n",
      "Data columns (total 16 columns):\n",
      " #   Column      Non-Null Count  Dtype  \n",
      "---  ------      --------------  -----  \n",
      " 0   City        29531 non-null  object \n",
      " 1   Date        29531 non-null  object \n",
      " 2   PM2.5       24933 non-null  float64\n",
      " 3   PM10        18391 non-null  float64\n",
      " 4   NO          25949 non-null  float64\n",
      " 5   NO2         25946 non-null  float64\n",
      " 6   NOx         25346 non-null  float64\n",
      " 7   NH3         19203 non-null  float64\n",
      " 8   CO          27472 non-null  float64\n",
      " 9   SO2         25677 non-null  float64\n",
      " 10  O3          25509 non-null  float64\n",
      " 11  Benzene     23908 non-null  float64\n",
      " 12  Toluene     21490 non-null  float64\n",
      " 13  Xylene      11422 non-null  float64\n",
      " 14  AQI         24850 non-null  float64\n",
      " 15  AQI_Bucket  24850 non-null  object \n",
      "dtypes: float64(13), object(3)\n",
      "memory usage: 3.6+ MB\n"
     ]
    }
   ],
   "source": [
    "data.info()"
   ]
  },
  {
   "cell_type": "code",
   "execution_count": 8,
   "metadata": {
    "colab": {
     "base_uri": "https://localhost:8080/",
     "height": 432
    },
    "executionInfo": {
     "elapsed": 138,
     "status": "ok",
     "timestamp": 1696177728316,
     "user": {
      "displayName": "CHINMAYA KUMAR PALO",
      "userId": "02836757995076046470"
     },
     "user_tz": -330
    },
    "id": "XAc9xKykKqAu",
    "outputId": "da520e4a-b7d1-4158-e04b-0fb201aae495"
   },
   "outputs": [
    {
     "data": {
      "text/html": [
       "<div>\n",
       "<style scoped>\n",
       "    .dataframe tbody tr th:only-of-type {\n",
       "        vertical-align: middle;\n",
       "    }\n",
       "\n",
       "    .dataframe tbody tr th {\n",
       "        vertical-align: top;\n",
       "    }\n",
       "\n",
       "    .dataframe thead th {\n",
       "        text-align: right;\n",
       "    }\n",
       "</style>\n",
       "<table border=\"1\" class=\"dataframe\">\n",
       "  <thead>\n",
       "    <tr style=\"text-align: right;\">\n",
       "      <th></th>\n",
       "      <th>City</th>\n",
       "      <th>Date</th>\n",
       "      <th>PM2.5</th>\n",
       "      <th>PM10</th>\n",
       "      <th>NO</th>\n",
       "      <th>NO2</th>\n",
       "      <th>NOx</th>\n",
       "      <th>NH3</th>\n",
       "      <th>CO</th>\n",
       "      <th>SO2</th>\n",
       "      <th>O3</th>\n",
       "      <th>Benzene</th>\n",
       "      <th>Toluene</th>\n",
       "      <th>Xylene</th>\n",
       "      <th>AQI</th>\n",
       "      <th>AQI_Bucket</th>\n",
       "    </tr>\n",
       "  </thead>\n",
       "  <tbody>\n",
       "    <tr>\n",
       "      <th>count</th>\n",
       "      <td>29531</td>\n",
       "      <td>29531</td>\n",
       "      <td>24933.000000</td>\n",
       "      <td>18391.000000</td>\n",
       "      <td>25949.000000</td>\n",
       "      <td>25946.000000</td>\n",
       "      <td>25346.000000</td>\n",
       "      <td>19203.000000</td>\n",
       "      <td>27472.000000</td>\n",
       "      <td>25677.000000</td>\n",
       "      <td>25509.000000</td>\n",
       "      <td>23908.000000</td>\n",
       "      <td>21490.000000</td>\n",
       "      <td>11422.000000</td>\n",
       "      <td>24850.000000</td>\n",
       "      <td>24850</td>\n",
       "    </tr>\n",
       "    <tr>\n",
       "      <th>unique</th>\n",
       "      <td>26</td>\n",
       "      <td>2009</td>\n",
       "      <td>NaN</td>\n",
       "      <td>NaN</td>\n",
       "      <td>NaN</td>\n",
       "      <td>NaN</td>\n",
       "      <td>NaN</td>\n",
       "      <td>NaN</td>\n",
       "      <td>NaN</td>\n",
       "      <td>NaN</td>\n",
       "      <td>NaN</td>\n",
       "      <td>NaN</td>\n",
       "      <td>NaN</td>\n",
       "      <td>NaN</td>\n",
       "      <td>NaN</td>\n",
       "      <td>6</td>\n",
       "    </tr>\n",
       "    <tr>\n",
       "      <th>top</th>\n",
       "      <td>Ahmedabad</td>\n",
       "      <td>2020-07-01</td>\n",
       "      <td>NaN</td>\n",
       "      <td>NaN</td>\n",
       "      <td>NaN</td>\n",
       "      <td>NaN</td>\n",
       "      <td>NaN</td>\n",
       "      <td>NaN</td>\n",
       "      <td>NaN</td>\n",
       "      <td>NaN</td>\n",
       "      <td>NaN</td>\n",
       "      <td>NaN</td>\n",
       "      <td>NaN</td>\n",
       "      <td>NaN</td>\n",
       "      <td>NaN</td>\n",
       "      <td>Moderate</td>\n",
       "    </tr>\n",
       "    <tr>\n",
       "      <th>freq</th>\n",
       "      <td>2009</td>\n",
       "      <td>26</td>\n",
       "      <td>NaN</td>\n",
       "      <td>NaN</td>\n",
       "      <td>NaN</td>\n",
       "      <td>NaN</td>\n",
       "      <td>NaN</td>\n",
       "      <td>NaN</td>\n",
       "      <td>NaN</td>\n",
       "      <td>NaN</td>\n",
       "      <td>NaN</td>\n",
       "      <td>NaN</td>\n",
       "      <td>NaN</td>\n",
       "      <td>NaN</td>\n",
       "      <td>NaN</td>\n",
       "      <td>8829</td>\n",
       "    </tr>\n",
       "    <tr>\n",
       "      <th>mean</th>\n",
       "      <td>NaN</td>\n",
       "      <td>NaN</td>\n",
       "      <td>67.450578</td>\n",
       "      <td>118.127103</td>\n",
       "      <td>17.574730</td>\n",
       "      <td>28.560659</td>\n",
       "      <td>32.309123</td>\n",
       "      <td>23.483476</td>\n",
       "      <td>2.248598</td>\n",
       "      <td>14.531977</td>\n",
       "      <td>34.491430</td>\n",
       "      <td>3.280840</td>\n",
       "      <td>8.700972</td>\n",
       "      <td>3.070128</td>\n",
       "      <td>166.463581</td>\n",
       "      <td>NaN</td>\n",
       "    </tr>\n",
       "    <tr>\n",
       "      <th>std</th>\n",
       "      <td>NaN</td>\n",
       "      <td>NaN</td>\n",
       "      <td>64.661449</td>\n",
       "      <td>90.605110</td>\n",
       "      <td>22.785846</td>\n",
       "      <td>24.474746</td>\n",
       "      <td>31.646011</td>\n",
       "      <td>25.684275</td>\n",
       "      <td>6.962884</td>\n",
       "      <td>18.133775</td>\n",
       "      <td>21.694928</td>\n",
       "      <td>15.811136</td>\n",
       "      <td>19.969164</td>\n",
       "      <td>6.323247</td>\n",
       "      <td>140.696585</td>\n",
       "      <td>NaN</td>\n",
       "    </tr>\n",
       "    <tr>\n",
       "      <th>min</th>\n",
       "      <td>NaN</td>\n",
       "      <td>NaN</td>\n",
       "      <td>0.040000</td>\n",
       "      <td>0.010000</td>\n",
       "      <td>0.020000</td>\n",
       "      <td>0.010000</td>\n",
       "      <td>0.000000</td>\n",
       "      <td>0.010000</td>\n",
       "      <td>0.000000</td>\n",
       "      <td>0.010000</td>\n",
       "      <td>0.010000</td>\n",
       "      <td>0.000000</td>\n",
       "      <td>0.000000</td>\n",
       "      <td>0.000000</td>\n",
       "      <td>13.000000</td>\n",
       "      <td>NaN</td>\n",
       "    </tr>\n",
       "    <tr>\n",
       "      <th>25%</th>\n",
       "      <td>NaN</td>\n",
       "      <td>NaN</td>\n",
       "      <td>28.820000</td>\n",
       "      <td>56.255000</td>\n",
       "      <td>5.630000</td>\n",
       "      <td>11.750000</td>\n",
       "      <td>12.820000</td>\n",
       "      <td>8.580000</td>\n",
       "      <td>0.510000</td>\n",
       "      <td>5.670000</td>\n",
       "      <td>18.860000</td>\n",
       "      <td>0.120000</td>\n",
       "      <td>0.600000</td>\n",
       "      <td>0.140000</td>\n",
       "      <td>81.000000</td>\n",
       "      <td>NaN</td>\n",
       "    </tr>\n",
       "    <tr>\n",
       "      <th>50%</th>\n",
       "      <td>NaN</td>\n",
       "      <td>NaN</td>\n",
       "      <td>48.570000</td>\n",
       "      <td>95.680000</td>\n",
       "      <td>9.890000</td>\n",
       "      <td>21.690000</td>\n",
       "      <td>23.520000</td>\n",
       "      <td>15.850000</td>\n",
       "      <td>0.890000</td>\n",
       "      <td>9.160000</td>\n",
       "      <td>30.840000</td>\n",
       "      <td>1.070000</td>\n",
       "      <td>2.970000</td>\n",
       "      <td>0.980000</td>\n",
       "      <td>118.000000</td>\n",
       "      <td>NaN</td>\n",
       "    </tr>\n",
       "    <tr>\n",
       "      <th>75%</th>\n",
       "      <td>NaN</td>\n",
       "      <td>NaN</td>\n",
       "      <td>80.590000</td>\n",
       "      <td>149.745000</td>\n",
       "      <td>19.950000</td>\n",
       "      <td>37.620000</td>\n",
       "      <td>40.127500</td>\n",
       "      <td>30.020000</td>\n",
       "      <td>1.450000</td>\n",
       "      <td>15.220000</td>\n",
       "      <td>45.570000</td>\n",
       "      <td>3.080000</td>\n",
       "      <td>9.150000</td>\n",
       "      <td>3.350000</td>\n",
       "      <td>208.000000</td>\n",
       "      <td>NaN</td>\n",
       "    </tr>\n",
       "    <tr>\n",
       "      <th>max</th>\n",
       "      <td>NaN</td>\n",
       "      <td>NaN</td>\n",
       "      <td>949.990000</td>\n",
       "      <td>1000.000000</td>\n",
       "      <td>390.680000</td>\n",
       "      <td>362.210000</td>\n",
       "      <td>467.630000</td>\n",
       "      <td>352.890000</td>\n",
       "      <td>175.810000</td>\n",
       "      <td>193.860000</td>\n",
       "      <td>257.730000</td>\n",
       "      <td>455.030000</td>\n",
       "      <td>454.850000</td>\n",
       "      <td>170.370000</td>\n",
       "      <td>2049.000000</td>\n",
       "      <td>NaN</td>\n",
       "    </tr>\n",
       "  </tbody>\n",
       "</table>\n",
       "</div>"
      ],
      "text/plain": [
       "             City        Date         PM2.5          PM10            NO  \\\n",
       "count       29531       29531  24933.000000  18391.000000  25949.000000   \n",
       "unique         26        2009           NaN           NaN           NaN   \n",
       "top     Ahmedabad  2020-07-01           NaN           NaN           NaN   \n",
       "freq         2009          26           NaN           NaN           NaN   \n",
       "mean          NaN         NaN     67.450578    118.127103     17.574730   \n",
       "std           NaN         NaN     64.661449     90.605110     22.785846   \n",
       "min           NaN         NaN      0.040000      0.010000      0.020000   \n",
       "25%           NaN         NaN     28.820000     56.255000      5.630000   \n",
       "50%           NaN         NaN     48.570000     95.680000      9.890000   \n",
       "75%           NaN         NaN     80.590000    149.745000     19.950000   \n",
       "max           NaN         NaN    949.990000   1000.000000    390.680000   \n",
       "\n",
       "                 NO2           NOx           NH3            CO           SO2  \\\n",
       "count   25946.000000  25346.000000  19203.000000  27472.000000  25677.000000   \n",
       "unique           NaN           NaN           NaN           NaN           NaN   \n",
       "top              NaN           NaN           NaN           NaN           NaN   \n",
       "freq             NaN           NaN           NaN           NaN           NaN   \n",
       "mean       28.560659     32.309123     23.483476      2.248598     14.531977   \n",
       "std        24.474746     31.646011     25.684275      6.962884     18.133775   \n",
       "min         0.010000      0.000000      0.010000      0.000000      0.010000   \n",
       "25%        11.750000     12.820000      8.580000      0.510000      5.670000   \n",
       "50%        21.690000     23.520000     15.850000      0.890000      9.160000   \n",
       "75%        37.620000     40.127500     30.020000      1.450000     15.220000   \n",
       "max       362.210000    467.630000    352.890000    175.810000    193.860000   \n",
       "\n",
       "                  O3       Benzene       Toluene        Xylene           AQI  \\\n",
       "count   25509.000000  23908.000000  21490.000000  11422.000000  24850.000000   \n",
       "unique           NaN           NaN           NaN           NaN           NaN   \n",
       "top              NaN           NaN           NaN           NaN           NaN   \n",
       "freq             NaN           NaN           NaN           NaN           NaN   \n",
       "mean       34.491430      3.280840      8.700972      3.070128    166.463581   \n",
       "std        21.694928     15.811136     19.969164      6.323247    140.696585   \n",
       "min         0.010000      0.000000      0.000000      0.000000     13.000000   \n",
       "25%        18.860000      0.120000      0.600000      0.140000     81.000000   \n",
       "50%        30.840000      1.070000      2.970000      0.980000    118.000000   \n",
       "75%        45.570000      3.080000      9.150000      3.350000    208.000000   \n",
       "max       257.730000    455.030000    454.850000    170.370000   2049.000000   \n",
       "\n",
       "       AQI_Bucket  \n",
       "count       24850  \n",
       "unique          6  \n",
       "top      Moderate  \n",
       "freq         8829  \n",
       "mean          NaN  \n",
       "std           NaN  \n",
       "min           NaN  \n",
       "25%           NaN  \n",
       "50%           NaN  \n",
       "75%           NaN  \n",
       "max           NaN  "
      ]
     },
     "execution_count": 8,
     "metadata": {},
     "output_type": "execute_result"
    }
   ],
   "source": [
    "data.describe(include='all')"
   ]
  },
  {
   "cell_type": "code",
   "execution_count": 9,
   "metadata": {
    "colab": {
     "base_uri": "https://localhost:8080/"
    },
    "executionInfo": {
     "elapsed": 137,
     "status": "ok",
     "timestamp": 1696177728316,
     "user": {
      "displayName": "CHINMAYA KUMAR PALO",
      "userId": "02836757995076046470"
     },
     "user_tz": -330
    },
    "id": "VpPdCKALK4tC",
    "outputId": "2f90610b-eaf2-4d95-8b56-2aabfc5f99c2"
   },
   "outputs": [
    {
     "data": {
      "text/plain": [
       "(29531, 16)"
      ]
     },
     "execution_count": 9,
     "metadata": {},
     "output_type": "execute_result"
    }
   ],
   "source": [
    "data.shape"
   ]
  },
  {
   "cell_type": "markdown",
   "metadata": {
    "id": "43vwtcr1przS"
   },
   "source": [
    "# Cleaning process"
   ]
  },
  {
   "cell_type": "code",
   "execution_count": 10,
   "metadata": {
    "colab": {
     "base_uri": "https://localhost:8080/"
    },
    "executionInfo": {
     "elapsed": 136,
     "status": "ok",
     "timestamp": 1696177728316,
     "user": {
      "displayName": "CHINMAYA KUMAR PALO",
      "userId": "02836757995076046470"
     },
     "user_tz": -330
    },
    "id": "5kjNJ-1cLErv",
    "outputId": "ed4fa6b3-c3b3-44ce-e3c7-fc573f97a7a8"
   },
   "outputs": [
    {
     "name": "stdout",
     "output_type": "stream",
     "text": [
      "City : \n",
      " ['Ahmedabad' 'Aizawl' 'Amaravati' 'Amritsar' 'Bengaluru' 'Bhopal'\n",
      " 'Brajrajnagar' 'Chandigarh' 'Chennai' 'Coimbatore' 'Delhi' 'Ernakulam'\n",
      " 'Gurugram' 'Guwahati' 'Hyderabad' 'Jaipur' 'Jorapokhar' 'Kochi' 'Kolkata'\n",
      " 'Lucknow' 'Mumbai' 'Patna' 'Shillong' 'Talcher' 'Thiruvananthapuram'\n",
      " 'Visakhapatnam'] \n",
      "\n",
      "Date : \n",
      " ['2015-01-01' '2015-01-02' '2015-01-03' ... '2020-06-29' '2020-06-30'\n",
      " '2020-07-01'] \n",
      "\n",
      "PM2.5 : \n",
      " [  nan 73.24 83.13 ... 33.17 25.4  24.38] \n",
      "\n",
      "PM10 : \n",
      " [   nan 141.54 122.41 ...  58.54  32.27  66.  ] \n",
      "\n",
      "NO : \n",
      " [ 0.92  0.97 17.4  ... 29.35 30.16 18.55] \n",
      "\n",
      "NO2 : \n",
      " [18.22 15.69 19.3  ... 58.99 52.1  53.59] \n",
      "\n",
      "NOx : \n",
      " [17.15 16.46 29.7  ... 42.33 45.87  7.07] \n",
      "\n",
      "NH3 : \n",
      " [  nan 26.64 25.63 ...  4.1  28.34 42.86] \n",
      "\n",
      "CO : \n",
      " [ 0.92  0.97 17.4  ...  4.85  5.59  4.56] \n",
      "\n",
      "SO2 : \n",
      " [27.64 24.55 29.07 ... 26.63 31.16 21.67] \n",
      "\n",
      "O3 : \n",
      " [133.36  34.06  30.7  ...  70.53  60.29  34.85] \n",
      "\n",
      "Benzene : \n",
      " [ 0.    3.68  6.8  ...  8.1   8.85 10.32] \n",
      "\n",
      "Toluene : \n",
      " [2.000e-02 5.500e+00 1.640e+01 ... 2.006e+01 1.154e+01 1.026e+01] \n",
      "\n",
      "Xylene : \n",
      " [ 0.    3.77  2.25 ...  8.06  5.04 12.41] \n",
      "\n",
      "AQI : \n",
      " [  nan  209.  328.  514.  782.  914.  660.  294.  149.  190.  247.  379.\n",
      "  341.  256.  388.  288.  510.  761.  475.  536.  479.  592.  427.  588.\n",
      " 1141.  669. 1247.  411.  292.  189.  408.  383.  780.  233.  297.  330.\n",
      "  252.  244.  234.  219.  118.  231.  286.  883.  720.  570.  589.  818.\n",
      "  737.  585.  616.  437.  321.  372.  339.  324.  222.  169.  220.  303.\n",
      "  314.  378.  415.  126.  175.  226.  315.  678.  774.  285.  358.  357.\n",
      "  214.  253.  239.  300.  317.  240.  344.  503.  308.  227.  120.  158.\n",
      "  177.  201.  211.  221.  481.  352.  327.  577.  212.  280.  162.  569.\n",
      "  128.  129.  152.  176.  167.  106.  174.  185.  179.  192.  310.  223.\n",
      "  191.  184.  215.  251.  216.  237.  198.  195.  187.  181.  188.  196.\n",
      "  230.  243.  199.  200.  241.  248.  232.  105.  101.   93.   67.   60.\n",
      "   90.   78.   48.   53.   91.   70.  157.  173.  172.  171.  168.  180.\n",
      "  274.  302.  301.  276.  197.  229.  170.  164.  217.  254.  390.  396.\n",
      "  731.  466.  309.  519.  397.  517.  653.  355.  316.  370.  551.  393.\n",
      "  671.  969.  471.  529.  213.  605.  691.  971.  270.  114.  143.  557.\n",
      "  354.  381.  272.  257.  218.  207. 1842.   72.  124.  145.  499.  148.\n",
      "   99.  117.  275.  183.  336.  468.  776.  805.  705.  740.  751.  798.\n",
      "  494.  296.  460.  283.  282.  204.  235.  225.  208.  250.  306.  249.\n",
      "  135.  268.  267.  236.  298.  311.  313.  326.  395.  507.  423.  263.\n",
      "  362.  278.  509.  472.  457.  721.  420.  417.  361.  319.  146.   80.\n",
      "  102.  459. 1426. 1348. 1073.  952.  550.  538.  498.  901.  929.  850.\n",
      "  707. 1577. 1747. 1065.  291.  333.  338.  371.  463.  419.  700. 1043.\n",
      " 1029. 1041. 1430.  765.  599.  764.  205.  284.  337.  696.  295.  565.\n",
      "  400.  340.  246.  650.  515.  404.  773.  763.  474.  343.  532.  534.\n",
      "  738.  622.  586.  898.  421.  542.  610.  716.  804.  656. 1201.  595.\n",
      "  384.  332. 1155. 1355. 1367.  795.  430. 1153. 1414. 1042. 1613.  433.\n",
      "  692.  620.  617.  590.  856.  587. 1423. 1917.  488.  802. 1035. 1477.\n",
      " 2049. 1314. 1215. 1483. 1526.  831.  132.  717.  525.  777.  807.  520.\n",
      " 1171. 1332. 1260.  708. 1108.  541. 1274. 1241. 1210.  549.  414.  484.\n",
      "  862.  889. 1001. 1156.  965. 1434.  579. 1034.  265.  304.  657.  403.\n",
      "  596.  392.  442.  438.  561.  855.  633.  210.  478.  465.  836. 1235.\n",
      "  351.  376.  228.  266.  409.  524.  273.  535.  366.  345.  492.  491.\n",
      "  523.  539.  513.  497.  502.  495.  486.  556.  508.  413.  385.  428.\n",
      "  440.  365.  377.  422.  347.  461.  447.  576.  485.  613.  458.  429.\n",
      "  450.  453.  424.  434.  470.  455.  489.  431.  402.  469.  476.  342.\n",
      "  467.  490.  445.  482.  527.  597.  623.  518.  688.  521.  477.  500.\n",
      "  530.  580.  546.  631.  876.  493.  410.  398.  680.  787.  951.  712.\n",
      "  483.  713.  844.  786.  664.  685.  558.  487.  559. 1291. 1350. 1561.\n",
      "  906.  824.  578.  161.  849.  574. 1217. 1033.  625.  803.  741. 1630.\n",
      " 1160. 1056. 1256. 1154. 1548.  820. 1354. 1672. 1472. 1295. 1646. 1329.\n",
      "  689.  702.  687.  714.  667. 1158.  938.  920.  800.  967.  978. 1558.\n",
      " 1300.  448. 1084. 1319.  744. 1474. 1246. 1719. 1264. 1127.  908.  661.\n",
      "  711.  854. 1258.  407.  116. 1302. 1275.  839. 1537.  547.  464.  260.\n",
      "  847.  334.  346. 1261.  290.  604. 1028.  755.  373.  895.  834.  826.\n",
      "  789.  904.  307.  350.  318.  754.  926.  606.  632.  262.  353. 1017.\n",
      "  380.  730.  998.  917. 1459. 1222.  869.  679. 1044.  537.  566. 1121.\n",
      "  944.  406.  649. 1205.  778.  608. 1346. 1015.  255.  449.  281.  356.\n",
      "  359.  813.  323.  435.  374.  360.  348.  369.  363.  436.  640.  446.\n",
      "  426.  451.  575.  957.  564.  545.  452.  573.  505.  473.  627.  462.\n",
      "  651.  563.  401.  432.  454.  629.  793.  528.  386.  572.  322.  512.\n",
      "  614.  954.  659. 1389. 1195.  615. 1595.  919. 1190.  956. 1124.  258.\n",
      "  305.  636.  289.  733.  638.  884.  552.  662.  443.  441.  134.  140.\n",
      "  293.  329.  242.  391.  206.  113.  166.  703.  368.  142.  375.  571.\n",
      "  568.  387.  652.  974.  412.  480.  543. 1226.  983. 1262.  962.  261.\n",
      "  325.  988.  193.  160.  125.  153.  182.  159.   89.   95.   88.   92.\n",
      "   96.   86.   87.  110.   98.  130.  122.  131.  121.  127.  136.  137.\n",
      "  133.  123.  112.  104.   97.   84.  108.   75.   85.   82.   74.  119.\n",
      "   52.   62.   54.   40.   51.   63.   69.   71.   66.   81.   64.   43.\n",
      "   44.   61.   45.   59.   55.   41.   42.   76.   49.   33.   31.   24.\n",
      "   23.   20.   19.   18.   35.   46.   21.   26.   32.   22.   27.   25.\n",
      "  165.  147.  115.  156.  259.  224.  186.  138.  111.  163.  139.   57.\n",
      "  107.  100.   83.   79.   56.   47.   58.   65.  103.  150.  155.   68.\n",
      "   73.   37.   29.   39.   77.   50.   94.  154.  109.  144.  245.  178.\n",
      "  202.  312.  287.  141.   38.   36.   28.   34.  151.  194.   30.  271.\n",
      "  320.  277.  335.  331.  732.  695.  203.  399.  238.  264.  269.  279.\n",
      "  349.  367.  299.  439.  425.  394.  496.  603.  444.  456.  501.  416.\n",
      "  405.  554.  522.  593.  676.  504.  418.  389.  382.  516.  675.  677.\n",
      "  531.  591.  506.  364.  684.  602.  646.  648.  891.  670.  607.  548.\n",
      "  838.  560.  699.  584.  526.  581.  619.  598.  533.   14.   17.   16.\n",
      "   15.   13.] \n",
      "\n",
      "AQI_Bucket : \n",
      " [nan 'Poor' 'Very Poor' 'Severe' 'Moderate' 'Satisfactory' 'Good'] \n",
      "\n"
     ]
    }
   ],
   "source": [
    "for i in data.columns:\n",
    "    print(i,':','\\n',data[i].unique(),'\\n')"
   ]
  },
  {
   "cell_type": "code",
   "execution_count": 11,
   "metadata": {
    "colab": {
     "base_uri": "https://localhost:8080/"
    },
    "executionInfo": {
     "elapsed": 134,
     "status": "ok",
     "timestamp": 1696177728316,
     "user": {
      "displayName": "CHINMAYA KUMAR PALO",
      "userId": "02836757995076046470"
     },
     "user_tz": -330
    },
    "id": "Ax52ohz0LLut",
    "outputId": "46ed2ed3-4fc2-471c-a67f-a26f4d416718"
   },
   "outputs": [
    {
     "data": {
      "text/plain": [
       "City              0\n",
       "Date              0\n",
       "PM2.5          4598\n",
       "PM10          11140\n",
       "NO             3582\n",
       "NO2            3585\n",
       "NOx            4185\n",
       "NH3           10328\n",
       "CO             2059\n",
       "SO2            3854\n",
       "O3             4022\n",
       "Benzene        5623\n",
       "Toluene        8041\n",
       "Xylene        18109\n",
       "AQI            4681\n",
       "AQI_Bucket     4681\n",
       "dtype: int64"
      ]
     },
     "execution_count": 11,
     "metadata": {},
     "output_type": "execute_result"
    }
   ],
   "source": [
    "data.isnull().sum()"
   ]
  },
  {
   "cell_type": "code",
   "execution_count": 12,
   "metadata": {
    "executionInfo": {
     "elapsed": 2070,
     "status": "ok",
     "timestamp": 1696177730255,
     "user": {
      "displayName": "CHINMAYA KUMAR PALO",
      "userId": "02836757995076046470"
     },
     "user_tz": -330
    },
    "id": "wtmzKmsPqgTk"
   },
   "outputs": [],
   "source": [
    "data.drop(columns=['City', 'Date', \"PM10\", 'NH3', 'Toluene', 'Xylene'], inplace=True)"
   ]
  },
  {
   "cell_type": "code",
   "execution_count": 13,
   "metadata": {
    "colab": {
     "base_uri": "https://localhost:8080/",
     "height": 206
    },
    "executionInfo": {
     "elapsed": 157,
     "status": "ok",
     "timestamp": 1696177730256,
     "user": {
      "displayName": "CHINMAYA KUMAR PALO",
      "userId": "02836757995076046470"
     },
     "user_tz": -330
    },
    "id": "VK5RPtNRqWFg",
    "outputId": "d3dcb8ce-5f1e-4697-d397-c8ff75617811"
   },
   "outputs": [
    {
     "data": {
      "text/html": [
       "<div>\n",
       "<style scoped>\n",
       "    .dataframe tbody tr th:only-of-type {\n",
       "        vertical-align: middle;\n",
       "    }\n",
       "\n",
       "    .dataframe tbody tr th {\n",
       "        vertical-align: top;\n",
       "    }\n",
       "\n",
       "    .dataframe thead th {\n",
       "        text-align: right;\n",
       "    }\n",
       "</style>\n",
       "<table border=\"1\" class=\"dataframe\">\n",
       "  <thead>\n",
       "    <tr style=\"text-align: right;\">\n",
       "      <th></th>\n",
       "      <th>PM2.5</th>\n",
       "      <th>NO</th>\n",
       "      <th>NO2</th>\n",
       "      <th>NOx</th>\n",
       "      <th>CO</th>\n",
       "      <th>SO2</th>\n",
       "      <th>O3</th>\n",
       "      <th>Benzene</th>\n",
       "      <th>AQI</th>\n",
       "      <th>AQI_Bucket</th>\n",
       "    </tr>\n",
       "  </thead>\n",
       "  <tbody>\n",
       "    <tr>\n",
       "      <th>0</th>\n",
       "      <td>NaN</td>\n",
       "      <td>0.92</td>\n",
       "      <td>18.22</td>\n",
       "      <td>17.15</td>\n",
       "      <td>0.92</td>\n",
       "      <td>27.64</td>\n",
       "      <td>133.36</td>\n",
       "      <td>0.00</td>\n",
       "      <td>NaN</td>\n",
       "      <td>NaN</td>\n",
       "    </tr>\n",
       "    <tr>\n",
       "      <th>1</th>\n",
       "      <td>NaN</td>\n",
       "      <td>0.97</td>\n",
       "      <td>15.69</td>\n",
       "      <td>16.46</td>\n",
       "      <td>0.97</td>\n",
       "      <td>24.55</td>\n",
       "      <td>34.06</td>\n",
       "      <td>3.68</td>\n",
       "      <td>NaN</td>\n",
       "      <td>NaN</td>\n",
       "    </tr>\n",
       "    <tr>\n",
       "      <th>2</th>\n",
       "      <td>NaN</td>\n",
       "      <td>17.40</td>\n",
       "      <td>19.30</td>\n",
       "      <td>29.70</td>\n",
       "      <td>17.40</td>\n",
       "      <td>29.07</td>\n",
       "      <td>30.70</td>\n",
       "      <td>6.80</td>\n",
       "      <td>NaN</td>\n",
       "      <td>NaN</td>\n",
       "    </tr>\n",
       "    <tr>\n",
       "      <th>3</th>\n",
       "      <td>NaN</td>\n",
       "      <td>1.70</td>\n",
       "      <td>18.48</td>\n",
       "      <td>17.97</td>\n",
       "      <td>1.70</td>\n",
       "      <td>18.59</td>\n",
       "      <td>36.08</td>\n",
       "      <td>4.43</td>\n",
       "      <td>NaN</td>\n",
       "      <td>NaN</td>\n",
       "    </tr>\n",
       "    <tr>\n",
       "      <th>4</th>\n",
       "      <td>NaN</td>\n",
       "      <td>22.10</td>\n",
       "      <td>21.42</td>\n",
       "      <td>37.76</td>\n",
       "      <td>22.10</td>\n",
       "      <td>39.33</td>\n",
       "      <td>39.31</td>\n",
       "      <td>7.01</td>\n",
       "      <td>NaN</td>\n",
       "      <td>NaN</td>\n",
       "    </tr>\n",
       "  </tbody>\n",
       "</table>\n",
       "</div>"
      ],
      "text/plain": [
       "   PM2.5     NO    NO2    NOx     CO    SO2      O3  Benzene  AQI AQI_Bucket\n",
       "0    NaN   0.92  18.22  17.15   0.92  27.64  133.36     0.00  NaN        NaN\n",
       "1    NaN   0.97  15.69  16.46   0.97  24.55   34.06     3.68  NaN        NaN\n",
       "2    NaN  17.40  19.30  29.70  17.40  29.07   30.70     6.80  NaN        NaN\n",
       "3    NaN   1.70  18.48  17.97   1.70  18.59   36.08     4.43  NaN        NaN\n",
       "4    NaN  22.10  21.42  37.76  22.10  39.33   39.31     7.01  NaN        NaN"
      ]
     },
     "execution_count": 13,
     "metadata": {},
     "output_type": "execute_result"
    }
   ],
   "source": [
    "data.head()"
   ]
  },
  {
   "cell_type": "code",
   "execution_count": 14,
   "metadata": {
    "colab": {
     "base_uri": "https://localhost:8080/"
    },
    "executionInfo": {
     "elapsed": 155,
     "status": "ok",
     "timestamp": 1696177730256,
     "user": {
      "displayName": "CHINMAYA KUMAR PALO",
      "userId": "02836757995076046470"
     },
     "user_tz": -330
    },
    "id": "vGIRsnNgsiYT",
    "outputId": "bc737295-752a-4fad-fd22-09047d8db896"
   },
   "outputs": [
    {
     "data": {
      "text/plain": [
       "Index(['PM2.5', 'NO', 'NO2', 'NOx', 'CO', 'SO2', 'O3', 'Benzene', 'AQI',\n",
       "       'AQI_Bucket'],\n",
       "      dtype='object')"
      ]
     },
     "execution_count": 14,
     "metadata": {},
     "output_type": "execute_result"
    }
   ],
   "source": [
    "data.columns"
   ]
  },
  {
   "cell_type": "code",
   "execution_count": 15,
   "metadata": {
    "executionInfo": {
     "elapsed": 151,
     "status": "ok",
     "timestamp": 1696177730256,
     "user": {
      "displayName": "CHINMAYA KUMAR PALO",
      "userId": "02836757995076046470"
     },
     "user_tz": -330
    },
    "id": "2fYD_vqkudtj"
   },
   "outputs": [],
   "source": [
    "data.dropna(how='all', inplace=True)"
   ]
  },
  {
   "cell_type": "code",
   "execution_count": 16,
   "metadata": {
    "colab": {
     "base_uri": "https://localhost:8080/"
    },
    "executionInfo": {
     "elapsed": 151,
     "status": "ok",
     "timestamp": 1696177730256,
     "user": {
      "displayName": "CHINMAYA KUMAR PALO",
      "userId": "02836757995076046470"
     },
     "user_tz": -330
    },
    "id": "D_Y5Z_1Tuh2w",
    "outputId": "53005f3a-89e6-4b9e-fa57-558e397420f4"
   },
   "outputs": [
    {
     "data": {
      "text/plain": [
       "(28149, 10)"
      ]
     },
     "execution_count": 16,
     "metadata": {},
     "output_type": "execute_result"
    }
   ],
   "source": [
    "data.shape"
   ]
  },
  {
   "cell_type": "code",
   "execution_count": 17,
   "metadata": {
    "executionInfo": {
     "elapsed": 148,
     "status": "ok",
     "timestamp": 1696177730256,
     "user": {
      "displayName": "CHINMAYA KUMAR PALO",
      "userId": "02836757995076046470"
     },
     "user_tz": -330
    },
    "id": "6AsABPQ0sKxg"
   },
   "outputs": [],
   "source": [
    "for i in ['PM2.5', 'NO', 'NO2', 'NOx', 'CO', 'SO2', 'O3', 'Benzene', 'AQI']:\n",
    "  data[i].fillna(data[i].mean(), inplace=True)"
   ]
  },
  {
   "cell_type": "code",
   "execution_count": 18,
   "metadata": {
    "executionInfo": {
     "elapsed": 148,
     "status": "ok",
     "timestamp": 1696177730256,
     "user": {
      "displayName": "CHINMAYA KUMAR PALO",
      "userId": "02836757995076046470"
     },
     "user_tz": -330
    },
    "id": "_Z_MNCmXtCP0"
   },
   "outputs": [],
   "source": [
    "data['AQI_Bucket'].fillna('Moderate', inplace=True)"
   ]
  },
  {
   "cell_type": "code",
   "execution_count": 19,
   "metadata": {
    "colab": {
     "base_uri": "https://localhost:8080/"
    },
    "executionInfo": {
     "elapsed": 148,
     "status": "ok",
     "timestamp": 1696177730256,
     "user": {
      "displayName": "CHINMAYA KUMAR PALO",
      "userId": "02836757995076046470"
     },
     "user_tz": -330
    },
    "id": "ZqTduIeMs7Lf",
    "outputId": "42da4d15-b68c-4600-8b43-a7eaa4dddbad"
   },
   "outputs": [
    {
     "data": {
      "text/plain": [
       "PM2.5         0\n",
       "NO            0\n",
       "NO2           0\n",
       "NOx           0\n",
       "CO            0\n",
       "SO2           0\n",
       "O3            0\n",
       "Benzene       0\n",
       "AQI           0\n",
       "AQI_Bucket    0\n",
       "dtype: int64"
      ]
     },
     "execution_count": 19,
     "metadata": {},
     "output_type": "execute_result"
    }
   ],
   "source": [
    "data.isnull().sum()"
   ]
  },
  {
   "cell_type": "code",
   "execution_count": 20,
   "metadata": {
    "colab": {
     "base_uri": "https://localhost:8080/",
     "height": 394
    },
    "executionInfo": {
     "elapsed": 146,
     "status": "ok",
     "timestamp": 1696177730256,
     "user": {
      "displayName": "CHINMAYA KUMAR PALO",
      "userId": "02836757995076046470"
     },
     "user_tz": -330
    },
    "id": "w1Ar9ciUtKtI",
    "outputId": "d30ed7bd-fa83-4400-9bd3-fe469d6b03f3"
   },
   "outputs": [
    {
     "data": {
      "text/html": [
       "<div>\n",
       "<style scoped>\n",
       "    .dataframe tbody tr th:only-of-type {\n",
       "        vertical-align: middle;\n",
       "    }\n",
       "\n",
       "    .dataframe tbody tr th {\n",
       "        vertical-align: top;\n",
       "    }\n",
       "\n",
       "    .dataframe thead th {\n",
       "        text-align: right;\n",
       "    }\n",
       "</style>\n",
       "<table border=\"1\" class=\"dataframe\">\n",
       "  <thead>\n",
       "    <tr style=\"text-align: right;\">\n",
       "      <th></th>\n",
       "      <th>PM2.5</th>\n",
       "      <th>NO</th>\n",
       "      <th>NO2</th>\n",
       "      <th>NOx</th>\n",
       "      <th>CO</th>\n",
       "      <th>SO2</th>\n",
       "      <th>O3</th>\n",
       "      <th>Benzene</th>\n",
       "      <th>AQI</th>\n",
       "      <th>AQI_Bucket</th>\n",
       "    </tr>\n",
       "  </thead>\n",
       "  <tbody>\n",
       "    <tr>\n",
       "      <th>count</th>\n",
       "      <td>28149.000000</td>\n",
       "      <td>28149.000000</td>\n",
       "      <td>28149.000000</td>\n",
       "      <td>28149.000000</td>\n",
       "      <td>28149.000000</td>\n",
       "      <td>28149.000000</td>\n",
       "      <td>28149.000000</td>\n",
       "      <td>28149.000000</td>\n",
       "      <td>28149.000000</td>\n",
       "      <td>28149</td>\n",
       "    </tr>\n",
       "    <tr>\n",
       "      <th>unique</th>\n",
       "      <td>NaN</td>\n",
       "      <td>NaN</td>\n",
       "      <td>NaN</td>\n",
       "      <td>NaN</td>\n",
       "      <td>NaN</td>\n",
       "      <td>NaN</td>\n",
       "      <td>NaN</td>\n",
       "      <td>NaN</td>\n",
       "      <td>NaN</td>\n",
       "      <td>6</td>\n",
       "    </tr>\n",
       "    <tr>\n",
       "      <th>top</th>\n",
       "      <td>NaN</td>\n",
       "      <td>NaN</td>\n",
       "      <td>NaN</td>\n",
       "      <td>NaN</td>\n",
       "      <td>NaN</td>\n",
       "      <td>NaN</td>\n",
       "      <td>NaN</td>\n",
       "      <td>NaN</td>\n",
       "      <td>NaN</td>\n",
       "      <td>Moderate</td>\n",
       "    </tr>\n",
       "    <tr>\n",
       "      <th>freq</th>\n",
       "      <td>NaN</td>\n",
       "      <td>NaN</td>\n",
       "      <td>NaN</td>\n",
       "      <td>NaN</td>\n",
       "      <td>NaN</td>\n",
       "      <td>NaN</td>\n",
       "      <td>NaN</td>\n",
       "      <td>NaN</td>\n",
       "      <td>NaN</td>\n",
       "      <td>12128</td>\n",
       "    </tr>\n",
       "    <tr>\n",
       "      <th>mean</th>\n",
       "      <td>67.450578</td>\n",
       "      <td>17.574730</td>\n",
       "      <td>28.560659</td>\n",
       "      <td>32.309123</td>\n",
       "      <td>2.248598</td>\n",
       "      <td>14.531977</td>\n",
       "      <td>34.491430</td>\n",
       "      <td>3.280840</td>\n",
       "      <td>166.463581</td>\n",
       "      <td>NaN</td>\n",
       "    </tr>\n",
       "    <tr>\n",
       "      <th>std</th>\n",
       "      <td>60.855554</td>\n",
       "      <td>21.877281</td>\n",
       "      <td>23.497478</td>\n",
       "      <td>30.029033</td>\n",
       "      <td>6.878641</td>\n",
       "      <td>17.319212</td>\n",
       "      <td>20.652501</td>\n",
       "      <td>14.571419</td>\n",
       "      <td>132.194761</td>\n",
       "      <td>NaN</td>\n",
       "    </tr>\n",
       "    <tr>\n",
       "      <th>min</th>\n",
       "      <td>0.040000</td>\n",
       "      <td>0.020000</td>\n",
       "      <td>0.010000</td>\n",
       "      <td>0.000000</td>\n",
       "      <td>0.000000</td>\n",
       "      <td>0.010000</td>\n",
       "      <td>0.010000</td>\n",
       "      <td>0.000000</td>\n",
       "      <td>13.000000</td>\n",
       "      <td>NaN</td>\n",
       "    </tr>\n",
       "    <tr>\n",
       "      <th>25%</th>\n",
       "      <td>31.150000</td>\n",
       "      <td>5.970000</td>\n",
       "      <td>12.480000</td>\n",
       "      <td>14.070000</td>\n",
       "      <td>0.520000</td>\n",
       "      <td>5.940000</td>\n",
       "      <td>20.040000</td>\n",
       "      <td>0.210000</td>\n",
       "      <td>86.000000</td>\n",
       "      <td>NaN</td>\n",
       "    </tr>\n",
       "    <tr>\n",
       "      <th>50%</th>\n",
       "      <td>55.080000</td>\n",
       "      <td>10.820000</td>\n",
       "      <td>23.880000</td>\n",
       "      <td>26.360000</td>\n",
       "      <td>0.910000</td>\n",
       "      <td>10.000000</td>\n",
       "      <td>33.400000</td>\n",
       "      <td>1.620000</td>\n",
       "      <td>131.000000</td>\n",
       "      <td>NaN</td>\n",
       "    </tr>\n",
       "    <tr>\n",
       "      <th>75%</th>\n",
       "      <td>74.650000</td>\n",
       "      <td>18.380000</td>\n",
       "      <td>35.800000</td>\n",
       "      <td>37.380000</td>\n",
       "      <td>1.520000</td>\n",
       "      <td>14.531977</td>\n",
       "      <td>43.600000</td>\n",
       "      <td>3.280840</td>\n",
       "      <td>187.000000</td>\n",
       "      <td>NaN</td>\n",
       "    </tr>\n",
       "    <tr>\n",
       "      <th>max</th>\n",
       "      <td>949.990000</td>\n",
       "      <td>390.680000</td>\n",
       "      <td>362.210000</td>\n",
       "      <td>467.630000</td>\n",
       "      <td>175.810000</td>\n",
       "      <td>193.860000</td>\n",
       "      <td>257.730000</td>\n",
       "      <td>455.030000</td>\n",
       "      <td>2049.000000</td>\n",
       "      <td>NaN</td>\n",
       "    </tr>\n",
       "  </tbody>\n",
       "</table>\n",
       "</div>"
      ],
      "text/plain": [
       "               PM2.5            NO           NO2           NOx            CO  \\\n",
       "count   28149.000000  28149.000000  28149.000000  28149.000000  28149.000000   \n",
       "unique           NaN           NaN           NaN           NaN           NaN   \n",
       "top              NaN           NaN           NaN           NaN           NaN   \n",
       "freq             NaN           NaN           NaN           NaN           NaN   \n",
       "mean       67.450578     17.574730     28.560659     32.309123      2.248598   \n",
       "std        60.855554     21.877281     23.497478     30.029033      6.878641   \n",
       "min         0.040000      0.020000      0.010000      0.000000      0.000000   \n",
       "25%        31.150000      5.970000     12.480000     14.070000      0.520000   \n",
       "50%        55.080000     10.820000     23.880000     26.360000      0.910000   \n",
       "75%        74.650000     18.380000     35.800000     37.380000      1.520000   \n",
       "max       949.990000    390.680000    362.210000    467.630000    175.810000   \n",
       "\n",
       "                 SO2            O3       Benzene           AQI AQI_Bucket  \n",
       "count   28149.000000  28149.000000  28149.000000  28149.000000      28149  \n",
       "unique           NaN           NaN           NaN           NaN          6  \n",
       "top              NaN           NaN           NaN           NaN   Moderate  \n",
       "freq             NaN           NaN           NaN           NaN      12128  \n",
       "mean       14.531977     34.491430      3.280840    166.463581        NaN  \n",
       "std        17.319212     20.652501     14.571419    132.194761        NaN  \n",
       "min         0.010000      0.010000      0.000000     13.000000        NaN  \n",
       "25%         5.940000     20.040000      0.210000     86.000000        NaN  \n",
       "50%        10.000000     33.400000      1.620000    131.000000        NaN  \n",
       "75%        14.531977     43.600000      3.280840    187.000000        NaN  \n",
       "max       193.860000    257.730000    455.030000   2049.000000        NaN  "
      ]
     },
     "execution_count": 20,
     "metadata": {},
     "output_type": "execute_result"
    }
   ],
   "source": [
    "data.describe(include='all')"
   ]
  },
  {
   "cell_type": "code",
   "execution_count": 21,
   "metadata": {
    "colab": {
     "base_uri": "https://localhost:8080/"
    },
    "executionInfo": {
     "elapsed": 145,
     "status": "ok",
     "timestamp": 1696177730256,
     "user": {
      "displayName": "CHINMAYA KUMAR PALO",
      "userId": "02836757995076046470"
     },
     "user_tz": -330
    },
    "id": "R7JUxglEs-k_",
    "outputId": "b7be3ca7-92c6-4ff8-a901-df0e271e3587"
   },
   "outputs": [
    {
     "data": {
      "text/plain": [
       "(28149, 10)"
      ]
     },
     "execution_count": 21,
     "metadata": {},
     "output_type": "execute_result"
    }
   ],
   "source": [
    "data.shape"
   ]
  },
  {
   "cell_type": "markdown",
   "metadata": {
    "id": "_9yNVWpuuzgA"
   },
   "source": [
    "# Analysis part"
   ]
  },
  {
   "cell_type": "code",
   "execution_count": 22,
   "metadata": {
    "colab": {
     "base_uri": "https://localhost:8080/",
     "height": 386
    },
    "executionInfo": {
     "elapsed": 143,
     "status": "ok",
     "timestamp": 1696177730256,
     "user": {
      "displayName": "CHINMAYA KUMAR PALO",
      "userId": "02836757995076046470"
     },
     "user_tz": -330
    },
    "id": "jmXd1rR_uyH7",
    "outputId": "330685fa-175d-4332-c7b7-e8a1926ab33e"
   },
   "outputs": [
    {
     "name": "stderr",
     "output_type": "stream",
     "text": [
      "/var/folders/lr/sg4lxyb11zscqjt79dtggrlr0000gn/T/ipykernel_5390/4173678507.py:1: FutureWarning: The default value of numeric_only in DataFrame.corr is deprecated. In a future version, it will default to False. Select only valid columns or specify the value of numeric_only to silence this warning.\n",
      "  cor=data.corr()\n"
     ]
    },
    {
     "data": {
      "text/html": [
       "<div>\n",
       "<style scoped>\n",
       "    .dataframe tbody tr th:only-of-type {\n",
       "        vertical-align: middle;\n",
       "    }\n",
       "\n",
       "    .dataframe tbody tr th {\n",
       "        vertical-align: top;\n",
       "    }\n",
       "\n",
       "    .dataframe thead th {\n",
       "        text-align: right;\n",
       "    }\n",
       "</style>\n",
       "<table border=\"1\" class=\"dataframe\">\n",
       "  <thead>\n",
       "    <tr style=\"text-align: right;\">\n",
       "      <th></th>\n",
       "      <th>PM2.5</th>\n",
       "      <th>NO</th>\n",
       "      <th>NO2</th>\n",
       "      <th>NOx</th>\n",
       "      <th>CO</th>\n",
       "      <th>SO2</th>\n",
       "      <th>O3</th>\n",
       "      <th>Benzene</th>\n",
       "      <th>AQI</th>\n",
       "    </tr>\n",
       "  </thead>\n",
       "  <tbody>\n",
       "    <tr>\n",
       "      <th>PM2.5</th>\n",
       "      <td>1.000000</td>\n",
       "      <td>0.426375</td>\n",
       "      <td>0.344341</td>\n",
       "      <td>0.380725</td>\n",
       "      <td>0.086663</td>\n",
       "      <td>0.119512</td>\n",
       "      <td>0.155330</td>\n",
       "      <td>0.021934</td>\n",
       "      <td>0.628860</td>\n",
       "    </tr>\n",
       "    <tr>\n",
       "      <th>NO</th>\n",
       "      <td>0.426375</td>\n",
       "      <td>1.000000</td>\n",
       "      <td>0.462402</td>\n",
       "      <td>0.746223</td>\n",
       "      <td>0.211639</td>\n",
       "      <td>0.166190</td>\n",
       "      <td>0.014218</td>\n",
       "      <td>0.033901</td>\n",
       "      <td>0.430600</td>\n",
       "    </tr>\n",
       "    <tr>\n",
       "      <th>NO2</th>\n",
       "      <td>0.344341</td>\n",
       "      <td>0.462402</td>\n",
       "      <td>1.000000</td>\n",
       "      <td>0.574190</td>\n",
       "      <td>0.353237</td>\n",
       "      <td>0.382758</td>\n",
       "      <td>0.285448</td>\n",
       "      <td>0.025082</td>\n",
       "      <td>0.522994</td>\n",
       "    </tr>\n",
       "    <tr>\n",
       "      <th>NOx</th>\n",
       "      <td>0.380725</td>\n",
       "      <td>0.746223</td>\n",
       "      <td>0.574190</td>\n",
       "      <td>1.000000</td>\n",
       "      <td>0.225097</td>\n",
       "      <td>0.208355</td>\n",
       "      <td>0.083063</td>\n",
       "      <td>0.037383</td>\n",
       "      <td>0.438363</td>\n",
       "    </tr>\n",
       "    <tr>\n",
       "      <th>CO</th>\n",
       "      <td>0.086663</td>\n",
       "      <td>0.211639</td>\n",
       "      <td>0.353237</td>\n",
       "      <td>0.225097</td>\n",
       "      <td>1.000000</td>\n",
       "      <td>0.472583</td>\n",
       "      <td>0.039787</td>\n",
       "      <td>0.061351</td>\n",
       "      <td>0.649679</td>\n",
       "    </tr>\n",
       "    <tr>\n",
       "      <th>SO2</th>\n",
       "      <td>0.119512</td>\n",
       "      <td>0.166190</td>\n",
       "      <td>0.382758</td>\n",
       "      <td>0.208355</td>\n",
       "      <td>0.472583</td>\n",
       "      <td>1.000000</td>\n",
       "      <td>0.156610</td>\n",
       "      <td>0.033059</td>\n",
       "      <td>0.452768</td>\n",
       "    </tr>\n",
       "    <tr>\n",
       "      <th>O3</th>\n",
       "      <td>0.155330</td>\n",
       "      <td>0.014218</td>\n",
       "      <td>0.285448</td>\n",
       "      <td>0.083063</td>\n",
       "      <td>0.039787</td>\n",
       "      <td>0.156610</td>\n",
       "      <td>1.000000</td>\n",
       "      <td>0.018748</td>\n",
       "      <td>0.188590</td>\n",
       "    </tr>\n",
       "    <tr>\n",
       "      <th>Benzene</th>\n",
       "      <td>0.021934</td>\n",
       "      <td>0.033901</td>\n",
       "      <td>0.025082</td>\n",
       "      <td>0.037383</td>\n",
       "      <td>0.061351</td>\n",
       "      <td>0.033059</td>\n",
       "      <td>0.018748</td>\n",
       "      <td>1.000000</td>\n",
       "      <td>0.041518</td>\n",
       "    </tr>\n",
       "    <tr>\n",
       "      <th>AQI</th>\n",
       "      <td>0.628860</td>\n",
       "      <td>0.430600</td>\n",
       "      <td>0.522994</td>\n",
       "      <td>0.438363</td>\n",
       "      <td>0.649679</td>\n",
       "      <td>0.452768</td>\n",
       "      <td>0.188590</td>\n",
       "      <td>0.041518</td>\n",
       "      <td>1.000000</td>\n",
       "    </tr>\n",
       "  </tbody>\n",
       "</table>\n",
       "</div>"
      ],
      "text/plain": [
       "            PM2.5        NO       NO2       NOx        CO       SO2        O3  \\\n",
       "PM2.5    1.000000  0.426375  0.344341  0.380725  0.086663  0.119512  0.155330   \n",
       "NO       0.426375  1.000000  0.462402  0.746223  0.211639  0.166190  0.014218   \n",
       "NO2      0.344341  0.462402  1.000000  0.574190  0.353237  0.382758  0.285448   \n",
       "NOx      0.380725  0.746223  0.574190  1.000000  0.225097  0.208355  0.083063   \n",
       "CO       0.086663  0.211639  0.353237  0.225097  1.000000  0.472583  0.039787   \n",
       "SO2      0.119512  0.166190  0.382758  0.208355  0.472583  1.000000  0.156610   \n",
       "O3       0.155330  0.014218  0.285448  0.083063  0.039787  0.156610  1.000000   \n",
       "Benzene  0.021934  0.033901  0.025082  0.037383  0.061351  0.033059  0.018748   \n",
       "AQI      0.628860  0.430600  0.522994  0.438363  0.649679  0.452768  0.188590   \n",
       "\n",
       "          Benzene       AQI  \n",
       "PM2.5    0.021934  0.628860  \n",
       "NO       0.033901  0.430600  \n",
       "NO2      0.025082  0.522994  \n",
       "NOx      0.037383  0.438363  \n",
       "CO       0.061351  0.649679  \n",
       "SO2      0.033059  0.452768  \n",
       "O3       0.018748  0.188590  \n",
       "Benzene  1.000000  0.041518  \n",
       "AQI      0.041518  1.000000  "
      ]
     },
     "execution_count": 22,
     "metadata": {},
     "output_type": "execute_result"
    }
   ],
   "source": [
    "cor=data.corr()\n",
    "cor"
   ]
  },
  {
   "cell_type": "code",
   "execution_count": 23,
   "metadata": {
    "colab": {
     "base_uri": "https://localhost:8080/",
     "height": 891
    },
    "executionInfo": {
     "elapsed": 141,
     "status": "ok",
     "timestamp": 1696177730256,
     "user": {
      "displayName": "CHINMAYA KUMAR PALO",
      "userId": "02836757995076046470"
     },
     "user_tz": -330
    },
    "id": "EDeXDcA2u-nY",
    "outputId": "765dee6c-4eb8-4d27-994e-63252f00d19a"
   },
   "outputs": [
    {
     "name": "stderr",
     "output_type": "stream",
     "text": [
      "/var/folders/lr/sg4lxyb11zscqjt79dtggrlr0000gn/T/ipykernel_5390/3915270608.py:2: FutureWarning: The default value of numeric_only in DataFrame.corr is deprecated. In a future version, it will default to False. Select only valid columns or specify the value of numeric_only to silence this warning.\n",
      "  cor=data.corr()\n"
     ]
    },
    {
     "data": {
      "image/png": "[encoded data removed]",
      "text/plain": [
       "<Figure size 1500x1000 with 2 Axes>"
      ]
     },
     "metadata": {},
     "output_type": "display_data"
    }
   ],
   "source": [
    "plt.figure(figsize=(15,10))\n",
    "cor=data.corr()\n",
    "sns.heatmap(cor,annot=True)\n",
    "plt.show()"
   ]
  },
  {
   "cell_type": "code",
   "execution_count": 24,
   "metadata": {
    "executionInfo": {
     "elapsed": 139,
     "status": "ok",
     "timestamp": 1696177730256,
     "user": {
      "displayName": "CHINMAYA KUMAR PALO",
      "userId": "02836757995076046470"
     },
     "user_tz": -330
    },
    "id": "2mUOJbG-qX8c"
   },
   "outputs": [],
   "source": [
    "#sns.pairplot(data, hue='AQI_Bucket')\n",
    "#plt.show()"
   ]
  },
  {
   "cell_type": "code",
   "execution_count": null,
   "metadata": {
    "executionInfo": {
     "elapsed": 139,
     "status": "ok",
     "timestamp": 1696177730256,
     "user": {
      "displayName": "CHINMAYA KUMAR PALO",
      "userId": "02836757995076046470"
     },
     "user_tz": -330
    },
    "id": "ydmZRhFru9Qa"
   },
   "outputs": [],
   "source": []
  },
  {
   "cell_type": "markdown",
   "metadata": {
    "id": "j7GXxYV2vnvi"
   },
   "source": [
    "# Encoding part"
   ]
  },
  {
   "cell_type": "code",
   "execution_count": 25,
   "metadata": {
    "executionInfo": {
     "elapsed": 139,
     "status": "ok",
     "timestamp": 1696177730256,
     "user": {
      "displayName": "CHINMAYA KUMAR PALO",
      "userId": "02836757995076046470"
     },
     "user_tz": -330
    },
    "id": "bUKqZMCDuBqx"
   },
   "outputs": [],
   "source": [
    "from sklearn.preprocessing import LabelEncoder\n",
    "le=LabelEncoder()\n",
    "data.AQI_Bucket=le.fit_transform(data.AQI_Bucket)"
   ]
  },
  {
   "cell_type": "code",
   "execution_count": 26,
   "metadata": {
    "colab": {
     "base_uri": "https://localhost:8080/"
    },
    "executionInfo": {
     "elapsed": 139,
     "status": "ok",
     "timestamp": 1696177730256,
     "user": {
      "displayName": "CHINMAYA KUMAR PALO",
      "userId": "02836757995076046470"
     },
     "user_tz": -330
    },
    "id": "z9vEZwVqwcOi",
    "outputId": "2a616f11-5434-460a-9079-727f81a75886"
   },
   "outputs": [
    {
     "data": {
      "text/plain": [
       "array([1, 2, 5, 4, 3, 0])"
      ]
     },
     "execution_count": 26,
     "metadata": {},
     "output_type": "execute_result"
    }
   ],
   "source": [
    "data.AQI_Bucket.unique()"
   ]
  },
  {
   "cell_type": "code",
   "execution_count": 27,
   "metadata": {
    "colab": {
     "base_uri": "https://localhost:8080/"
    },
    "executionInfo": {
     "elapsed": 137,
     "status": "ok",
     "timestamp": 1696177730256,
     "user": {
      "displayName": "CHINMAYA KUMAR PALO",
      "userId": "02836757995076046470"
     },
     "user_tz": -330
    },
    "id": "4Pq1xcSiwi3Y",
    "outputId": "dfb7d7ec-e88c-4d2a-a069-765d39ffdee9"
   },
   "outputs": [
    {
     "data": {
      "text/plain": [
       "array(['Moderate', 'Poor', 'Very Poor', 'Severe', 'Satisfactory', 'Good'],\n",
       "      dtype=object)"
      ]
     },
     "execution_count": 27,
     "metadata": {},
     "output_type": "execute_result"
    }
   ],
   "source": [
    "le.inverse_transform([1, 2, 5, 4, 3, 0])"
   ]
  },
  {
   "cell_type": "code",
   "execution_count": 28,
   "metadata": {
    "colab": {
     "base_uri": "https://localhost:8080/",
     "height": 424
    },
    "executionInfo": {
     "elapsed": 136,
     "status": "ok",
     "timestamp": 1696177730256,
     "user": {
      "displayName": "CHINMAYA KUMAR PALO",
      "userId": "02836757995076046470"
     },
     "user_tz": -330
    },
    "id": "KBxNiuCfwpOI",
    "outputId": "0f0da8a9-d733-4e3a-945c-956ae6266017"
   },
   "outputs": [
    {
     "data": {
      "text/html": [
       "<div>\n",
       "<style scoped>\n",
       "    .dataframe tbody tr th:only-of-type {\n",
       "        vertical-align: middle;\n",
       "    }\n",
       "\n",
       "    .dataframe tbody tr th {\n",
       "        vertical-align: top;\n",
       "    }\n",
       "\n",
       "    .dataframe thead th {\n",
       "        text-align: right;\n",
       "    }\n",
       "</style>\n",
       "<table border=\"1\" class=\"dataframe\">\n",
       "  <thead>\n",
       "    <tr style=\"text-align: right;\">\n",
       "      <th></th>\n",
       "      <th>PM2.5</th>\n",
       "      <th>NO</th>\n",
       "      <th>NO2</th>\n",
       "      <th>NOx</th>\n",
       "      <th>CO</th>\n",
       "      <th>SO2</th>\n",
       "      <th>O3</th>\n",
       "      <th>Benzene</th>\n",
       "      <th>AQI</th>\n",
       "      <th>AQI_Bucket</th>\n",
       "    </tr>\n",
       "  </thead>\n",
       "  <tbody>\n",
       "    <tr>\n",
       "      <th>0</th>\n",
       "      <td>67.450578</td>\n",
       "      <td>0.92</td>\n",
       "      <td>18.22</td>\n",
       "      <td>17.15</td>\n",
       "      <td>0.92</td>\n",
       "      <td>27.64</td>\n",
       "      <td>133.36</td>\n",
       "      <td>0.00000</td>\n",
       "      <td>166.463581</td>\n",
       "      <td>1</td>\n",
       "    </tr>\n",
       "    <tr>\n",
       "      <th>1</th>\n",
       "      <td>67.450578</td>\n",
       "      <td>0.97</td>\n",
       "      <td>15.69</td>\n",
       "      <td>16.46</td>\n",
       "      <td>0.97</td>\n",
       "      <td>24.55</td>\n",
       "      <td>34.06</td>\n",
       "      <td>3.68000</td>\n",
       "      <td>166.463581</td>\n",
       "      <td>1</td>\n",
       "    </tr>\n",
       "    <tr>\n",
       "      <th>2</th>\n",
       "      <td>67.450578</td>\n",
       "      <td>17.40</td>\n",
       "      <td>19.30</td>\n",
       "      <td>29.70</td>\n",
       "      <td>17.40</td>\n",
       "      <td>29.07</td>\n",
       "      <td>30.70</td>\n",
       "      <td>6.80000</td>\n",
       "      <td>166.463581</td>\n",
       "      <td>1</td>\n",
       "    </tr>\n",
       "    <tr>\n",
       "      <th>3</th>\n",
       "      <td>67.450578</td>\n",
       "      <td>1.70</td>\n",
       "      <td>18.48</td>\n",
       "      <td>17.97</td>\n",
       "      <td>1.70</td>\n",
       "      <td>18.59</td>\n",
       "      <td>36.08</td>\n",
       "      <td>4.43000</td>\n",
       "      <td>166.463581</td>\n",
       "      <td>1</td>\n",
       "    </tr>\n",
       "    <tr>\n",
       "      <th>4</th>\n",
       "      <td>67.450578</td>\n",
       "      <td>22.10</td>\n",
       "      <td>21.42</td>\n",
       "      <td>37.76</td>\n",
       "      <td>22.10</td>\n",
       "      <td>39.33</td>\n",
       "      <td>39.31</td>\n",
       "      <td>7.01000</td>\n",
       "      <td>166.463581</td>\n",
       "      <td>1</td>\n",
       "    </tr>\n",
       "    <tr>\n",
       "      <th>...</th>\n",
       "      <td>...</td>\n",
       "      <td>...</td>\n",
       "      <td>...</td>\n",
       "      <td>...</td>\n",
       "      <td>...</td>\n",
       "      <td>...</td>\n",
       "      <td>...</td>\n",
       "      <td>...</td>\n",
       "      <td>...</td>\n",
       "      <td>...</td>\n",
       "    </tr>\n",
       "    <tr>\n",
       "      <th>29526</th>\n",
       "      <td>15.020000</td>\n",
       "      <td>7.68</td>\n",
       "      <td>25.06</td>\n",
       "      <td>19.54</td>\n",
       "      <td>0.47</td>\n",
       "      <td>8.55</td>\n",
       "      <td>23.30</td>\n",
       "      <td>2.24000</td>\n",
       "      <td>41.000000</td>\n",
       "      <td>0</td>\n",
       "    </tr>\n",
       "    <tr>\n",
       "      <th>29527</th>\n",
       "      <td>24.380000</td>\n",
       "      <td>3.42</td>\n",
       "      <td>26.06</td>\n",
       "      <td>16.53</td>\n",
       "      <td>0.52</td>\n",
       "      <td>12.72</td>\n",
       "      <td>30.14</td>\n",
       "      <td>0.74000</td>\n",
       "      <td>70.000000</td>\n",
       "      <td>3</td>\n",
       "    </tr>\n",
       "    <tr>\n",
       "      <th>29528</th>\n",
       "      <td>22.910000</td>\n",
       "      <td>3.45</td>\n",
       "      <td>29.53</td>\n",
       "      <td>18.33</td>\n",
       "      <td>0.48</td>\n",
       "      <td>8.42</td>\n",
       "      <td>30.96</td>\n",
       "      <td>0.01000</td>\n",
       "      <td>68.000000</td>\n",
       "      <td>3</td>\n",
       "    </tr>\n",
       "    <tr>\n",
       "      <th>29529</th>\n",
       "      <td>16.640000</td>\n",
       "      <td>4.05</td>\n",
       "      <td>29.26</td>\n",
       "      <td>18.80</td>\n",
       "      <td>0.52</td>\n",
       "      <td>9.84</td>\n",
       "      <td>28.30</td>\n",
       "      <td>0.00000</td>\n",
       "      <td>54.000000</td>\n",
       "      <td>3</td>\n",
       "    </tr>\n",
       "    <tr>\n",
       "      <th>29530</th>\n",
       "      <td>15.000000</td>\n",
       "      <td>0.40</td>\n",
       "      <td>26.85</td>\n",
       "      <td>14.05</td>\n",
       "      <td>0.59</td>\n",
       "      <td>2.10</td>\n",
       "      <td>17.05</td>\n",
       "      <td>3.28084</td>\n",
       "      <td>50.000000</td>\n",
       "      <td>0</td>\n",
       "    </tr>\n",
       "  </tbody>\n",
       "</table>\n",
       "<p>28149 rows × 10 columns</p>\n",
       "</div>"
      ],
      "text/plain": [
       "           PM2.5     NO    NO2    NOx     CO    SO2      O3  Benzene  \\\n",
       "0      67.450578   0.92  18.22  17.15   0.92  27.64  133.36  0.00000   \n",
       "1      67.450578   0.97  15.69  16.46   0.97  24.55   34.06  3.68000   \n",
       "2      67.450578  17.40  19.30  29.70  17.40  29.07   30.70  6.80000   \n",
       "3      67.450578   1.70  18.48  17.97   1.70  18.59   36.08  4.43000   \n",
       "4      67.450578  22.10  21.42  37.76  22.10  39.33   39.31  7.01000   \n",
       "...          ...    ...    ...    ...    ...    ...     ...      ...   \n",
       "29526  15.020000   7.68  25.06  19.54   0.47   8.55   23.30  2.24000   \n",
       "29527  24.380000   3.42  26.06  16.53   0.52  12.72   30.14  0.74000   \n",
       "29528  22.910000   3.45  29.53  18.33   0.48   8.42   30.96  0.01000   \n",
       "29529  16.640000   4.05  29.26  18.80   0.52   9.84   28.30  0.00000   \n",
       "29530  15.000000   0.40  26.85  14.05   0.59   2.10   17.05  3.28084   \n",
       "\n",
       "              AQI  AQI_Bucket  \n",
       "0      166.463581           1  \n",
       "1      166.463581           1  \n",
       "2      166.463581           1  \n",
       "3      166.463581           1  \n",
       "4      166.463581           1  \n",
       "...           ...         ...  \n",
       "29526   41.000000           0  \n",
       "29527   70.000000           3  \n",
       "29528   68.000000           3  \n",
       "29529   54.000000           3  \n",
       "29530   50.000000           0  \n",
       "\n",
       "[28149 rows x 10 columns]"
      ]
     },
     "execution_count": 28,
     "metadata": {},
     "output_type": "execute_result"
    }
   ],
   "source": [
    "data"
   ]
  },
  {
   "cell_type": "markdown",
   "metadata": {
    "id": "T_sXx-uZw08h"
   },
   "source": [
    "# IP & OP Separation"
   ]
  },
  {
   "cell_type": "code",
   "execution_count": 29,
   "metadata": {
    "executionInfo": {
     "elapsed": 135,
     "status": "ok",
     "timestamp": 1696177730256,
     "user": {
      "displayName": "CHINMAYA KUMAR PALO",
      "userId": "02836757995076046470"
     },
     "user_tz": -330
    },
    "id": "cMTl4poIwuXm"
   },
   "outputs": [],
   "source": [
    "ip=data.drop('AQI_Bucket',axis=1)\n",
    "op=data[\"AQI_Bucket\"]"
   ]
  },
  {
   "cell_type": "code",
   "execution_count": 30,
   "metadata": {
    "colab": {
     "base_uri": "https://localhost:8080/",
     "height": 424
    },
    "executionInfo": {
     "elapsed": 135,
     "status": "ok",
     "timestamp": 1696177730256,
     "user": {
      "displayName": "CHINMAYA KUMAR PALO",
      "userId": "02836757995076046470"
     },
     "user_tz": -330
    },
    "id": "ARTQ8-MjxBIk",
    "outputId": "b63c53a8-357c-4ad0-d057-33d57c682881"
   },
   "outputs": [
    {
     "data": {
      "text/html": [
       "<div>\n",
       "<style scoped>\n",
       "    .dataframe tbody tr th:only-of-type {\n",
       "        vertical-align: middle;\n",
       "    }\n",
       "\n",
       "    .dataframe tbody tr th {\n",
       "        vertical-align: top;\n",
       "    }\n",
       "\n",
       "    .dataframe thead th {\n",
       "        text-align: right;\n",
       "    }\n",
       "</style>\n",
       "<table border=\"1\" class=\"dataframe\">\n",
       "  <thead>\n",
       "    <tr style=\"text-align: right;\">\n",
       "      <th></th>\n",
       "      <th>PM2.5</th>\n",
       "      <th>NO</th>\n",
       "      <th>NO2</th>\n",
       "      <th>NOx</th>\n",
       "      <th>CO</th>\n",
       "      <th>SO2</th>\n",
       "      <th>O3</th>\n",
       "      <th>Benzene</th>\n",
       "      <th>AQI</th>\n",
       "    </tr>\n",
       "  </thead>\n",
       "  <tbody>\n",
       "    <tr>\n",
       "      <th>0</th>\n",
       "      <td>67.450578</td>\n",
       "      <td>0.92</td>\n",
       "      <td>18.22</td>\n",
       "      <td>17.15</td>\n",
       "      <td>0.92</td>\n",
       "      <td>27.64</td>\n",
       "      <td>133.36</td>\n",
       "      <td>0.00000</td>\n",
       "      <td>166.463581</td>\n",
       "    </tr>\n",
       "    <tr>\n",
       "      <th>1</th>\n",
       "      <td>67.450578</td>\n",
       "      <td>0.97</td>\n",
       "      <td>15.69</td>\n",
       "      <td>16.46</td>\n",
       "      <td>0.97</td>\n",
       "      <td>24.55</td>\n",
       "      <td>34.06</td>\n",
       "      <td>3.68000</td>\n",
       "      <td>166.463581</td>\n",
       "    </tr>\n",
       "    <tr>\n",
       "      <th>2</th>\n",
       "      <td>67.450578</td>\n",
       "      <td>17.40</td>\n",
       "      <td>19.30</td>\n",
       "      <td>29.70</td>\n",
       "      <td>17.40</td>\n",
       "      <td>29.07</td>\n",
       "      <td>30.70</td>\n",
       "      <td>6.80000</td>\n",
       "      <td>166.463581</td>\n",
       "    </tr>\n",
       "    <tr>\n",
       "      <th>3</th>\n",
       "      <td>67.450578</td>\n",
       "      <td>1.70</td>\n",
       "      <td>18.48</td>\n",
       "      <td>17.97</td>\n",
       "      <td>1.70</td>\n",
       "      <td>18.59</td>\n",
       "      <td>36.08</td>\n",
       "      <td>4.43000</td>\n",
       "      <td>166.463581</td>\n",
       "    </tr>\n",
       "    <tr>\n",
       "      <th>4</th>\n",
       "      <td>67.450578</td>\n",
       "      <td>22.10</td>\n",
       "      <td>21.42</td>\n",
       "      <td>37.76</td>\n",
       "      <td>22.10</td>\n",
       "      <td>39.33</td>\n",
       "      <td>39.31</td>\n",
       "      <td>7.01000</td>\n",
       "      <td>166.463581</td>\n",
       "    </tr>\n",
       "    <tr>\n",
       "      <th>...</th>\n",
       "      <td>...</td>\n",
       "      <td>...</td>\n",
       "      <td>...</td>\n",
       "      <td>...</td>\n",
       "      <td>...</td>\n",
       "      <td>...</td>\n",
       "      <td>...</td>\n",
       "      <td>...</td>\n",
       "      <td>...</td>\n",
       "    </tr>\n",
       "    <tr>\n",
       "      <th>29526</th>\n",
       "      <td>15.020000</td>\n",
       "      <td>7.68</td>\n",
       "      <td>25.06</td>\n",
       "      <td>19.54</td>\n",
       "      <td>0.47</td>\n",
       "      <td>8.55</td>\n",
       "      <td>23.30</td>\n",
       "      <td>2.24000</td>\n",
       "      <td>41.000000</td>\n",
       "    </tr>\n",
       "    <tr>\n",
       "      <th>29527</th>\n",
       "      <td>24.380000</td>\n",
       "      <td>3.42</td>\n",
       "      <td>26.06</td>\n",
       "      <td>16.53</td>\n",
       "      <td>0.52</td>\n",
       "      <td>12.72</td>\n",
       "      <td>30.14</td>\n",
       "      <td>0.74000</td>\n",
       "      <td>70.000000</td>\n",
       "    </tr>\n",
       "    <tr>\n",
       "      <th>29528</th>\n",
       "      <td>22.910000</td>\n",
       "      <td>3.45</td>\n",
       "      <td>29.53</td>\n",
       "      <td>18.33</td>\n",
       "      <td>0.48</td>\n",
       "      <td>8.42</td>\n",
       "      <td>30.96</td>\n",
       "      <td>0.01000</td>\n",
       "      <td>68.000000</td>\n",
       "    </tr>\n",
       "    <tr>\n",
       "      <th>29529</th>\n",
       "      <td>16.640000</td>\n",
       "      <td>4.05</td>\n",
       "      <td>29.26</td>\n",
       "      <td>18.80</td>\n",
       "      <td>0.52</td>\n",
       "      <td>9.84</td>\n",
       "      <td>28.30</td>\n",
       "      <td>0.00000</td>\n",
       "      <td>54.000000</td>\n",
       "    </tr>\n",
       "    <tr>\n",
       "      <th>29530</th>\n",
       "      <td>15.000000</td>\n",
       "      <td>0.40</td>\n",
       "      <td>26.85</td>\n",
       "      <td>14.05</td>\n",
       "      <td>0.59</td>\n",
       "      <td>2.10</td>\n",
       "      <td>17.05</td>\n",
       "      <td>3.28084</td>\n",
       "      <td>50.000000</td>\n",
       "    </tr>\n",
       "  </tbody>\n",
       "</table>\n",
       "<p>28149 rows × 9 columns</p>\n",
       "</div>"
      ],
      "text/plain": [
       "           PM2.5     NO    NO2    NOx     CO    SO2      O3  Benzene  \\\n",
       "0      67.450578   0.92  18.22  17.15   0.92  27.64  133.36  0.00000   \n",
       "1      67.450578   0.97  15.69  16.46   0.97  24.55   34.06  3.68000   \n",
       "2      67.450578  17.40  19.30  29.70  17.40  29.07   30.70  6.80000   \n",
       "3      67.450578   1.70  18.48  17.97   1.70  18.59   36.08  4.43000   \n",
       "4      67.450578  22.10  21.42  37.76  22.10  39.33   39.31  7.01000   \n",
       "...          ...    ...    ...    ...    ...    ...     ...      ...   \n",
       "29526  15.020000   7.68  25.06  19.54   0.47   8.55   23.30  2.24000   \n",
       "29527  24.380000   3.42  26.06  16.53   0.52  12.72   30.14  0.74000   \n",
       "29528  22.910000   3.45  29.53  18.33   0.48   8.42   30.96  0.01000   \n",
       "29529  16.640000   4.05  29.26  18.80   0.52   9.84   28.30  0.00000   \n",
       "29530  15.000000   0.40  26.85  14.05   0.59   2.10   17.05  3.28084   \n",
       "\n",
       "              AQI  \n",
       "0      166.463581  \n",
       "1      166.463581  \n",
       "2      166.463581  \n",
       "3      166.463581  \n",
       "4      166.463581  \n",
       "...           ...  \n",
       "29526   41.000000  \n",
       "29527   70.000000  \n",
       "29528   68.000000  \n",
       "29529   54.000000  \n",
       "29530   50.000000  \n",
       "\n",
       "[28149 rows x 9 columns]"
      ]
     },
     "execution_count": 30,
     "metadata": {},
     "output_type": "execute_result"
    }
   ],
   "source": [
    "ip"
   ]
  },
  {
   "cell_type": "code",
   "execution_count": 31,
   "metadata": {
    "colab": {
     "base_uri": "https://localhost:8080/"
    },
    "executionInfo": {
     "elapsed": 135,
     "status": "ok",
     "timestamp": 1696177730256,
     "user": {
      "displayName": "CHINMAYA KUMAR PALO",
      "userId": "02836757995076046470"
     },
     "user_tz": -330
    },
    "id": "R6Eyul13xB3r",
    "outputId": "26d7d1f6-fb44-446f-bb1f-5aee0e8b1e91"
   },
   "outputs": [
    {
     "data": {
      "text/plain": [
       "0        1\n",
       "1        1\n",
       "2        1\n",
       "3        1\n",
       "4        1\n",
       "        ..\n",
       "29526    0\n",
       "29527    3\n",
       "29528    3\n",
       "29529    3\n",
       "29530    0\n",
       "Name: AQI_Bucket, Length: 28149, dtype: int64"
      ]
     },
     "execution_count": 31,
     "metadata": {},
     "output_type": "execute_result"
    }
   ],
   "source": [
    "op"
   ]
  },
  {
   "cell_type": "code",
   "execution_count": 32,
   "metadata": {
    "colab": {
     "base_uri": "https://localhost:8080/"
    },
    "executionInfo": {
     "elapsed": 133,
     "status": "ok",
     "timestamp": 1696177730256,
     "user": {
      "displayName": "CHINMAYA KUMAR PALO",
      "userId": "02836757995076046470"
     },
     "user_tz": -330
    },
    "id": "uUX_Ov3PxCSY",
    "outputId": "12685b5b-d097-4e85-d25c-23d506697218"
   },
   "outputs": [
    {
     "data": {
      "text/plain": [
       "((28149, 9), (28149,))"
      ]
     },
     "execution_count": 32,
     "metadata": {},
     "output_type": "execute_result"
    }
   ],
   "source": [
    "ip.shape, op.shape"
   ]
  },
  {
   "cell_type": "markdown",
   "metadata": {
    "id": "w6xsTUfFxKS3"
   },
   "source": [
    "# Train & Test Split and Standardization"
   ]
  },
  {
   "cell_type": "code",
   "execution_count": 33,
   "metadata": {
    "executionInfo": {
     "elapsed": 132,
     "status": "ok",
     "timestamp": 1696177730256,
     "user": {
      "displayName": "CHINMAYA KUMAR PALO",
      "userId": "02836757995076046470"
     },
     "user_tz": -330
    },
    "id": "eSt4dvdlxFd8"
   },
   "outputs": [],
   "source": [
    "from sklearn.model_selection import train_test_split\n",
    "x_train,x_test,y_train,y_test=train_test_split(ip,op,test_size=0.1)"
   ]
  },
  {
   "cell_type": "code",
   "execution_count": 34,
   "metadata": {
    "colab": {
     "base_uri": "https://localhost:8080/",
     "height": 424
    },
    "executionInfo": {
     "elapsed": 911,
     "status": "ok",
     "timestamp": 1696177731035,
     "user": {
      "displayName": "CHINMAYA KUMAR PALO",
      "userId": "02836757995076046470"
     },
     "user_tz": -330
    },
    "id": "AQRJnpgsxZzb",
    "outputId": "84818bca-3134-420c-9132-2c96c9c6b8e7"
   },
   "outputs": [
    {
     "data": {
      "text/html": [
       "<div>\n",
       "<style scoped>\n",
       "    .dataframe tbody tr th:only-of-type {\n",
       "        vertical-align: middle;\n",
       "    }\n",
       "\n",
       "    .dataframe tbody tr th {\n",
       "        vertical-align: top;\n",
       "    }\n",
       "\n",
       "    .dataframe thead th {\n",
       "        text-align: right;\n",
       "    }\n",
       "</style>\n",
       "<table border=\"1\" class=\"dataframe\">\n",
       "  <thead>\n",
       "    <tr style=\"text-align: right;\">\n",
       "      <th></th>\n",
       "      <th>PM2.5</th>\n",
       "      <th>NO</th>\n",
       "      <th>NO2</th>\n",
       "      <th>NOx</th>\n",
       "      <th>CO</th>\n",
       "      <th>SO2</th>\n",
       "      <th>O3</th>\n",
       "      <th>Benzene</th>\n",
       "      <th>AQI</th>\n",
       "    </tr>\n",
       "  </thead>\n",
       "  <tbody>\n",
       "    <tr>\n",
       "      <th>25358</th>\n",
       "      <td>30.29</td>\n",
       "      <td>8.13</td>\n",
       "      <td>17.13</td>\n",
       "      <td>9.370000</td>\n",
       "      <td>1.33</td>\n",
       "      <td>40.41</td>\n",
       "      <td>41.17</td>\n",
       "      <td>1.25</td>\n",
       "      <td>92.000000</td>\n",
       "    </tr>\n",
       "    <tr>\n",
       "      <th>23276</th>\n",
       "      <td>64.04</td>\n",
       "      <td>42.26</td>\n",
       "      <td>110.16</td>\n",
       "      <td>152.420000</td>\n",
       "      <td>2.41</td>\n",
       "      <td>21.59</td>\n",
       "      <td>69.64</td>\n",
       "      <td>2.01</td>\n",
       "      <td>166.463581</td>\n",
       "    </tr>\n",
       "    <tr>\n",
       "      <th>6151</th>\n",
       "      <td>52.07</td>\n",
       "      <td>5.09</td>\n",
       "      <td>31.67</td>\n",
       "      <td>30.740000</td>\n",
       "      <td>1.03</td>\n",
       "      <td>10.30</td>\n",
       "      <td>43.71</td>\n",
       "      <td>0.61</td>\n",
       "      <td>102.000000</td>\n",
       "    </tr>\n",
       "    <tr>\n",
       "      <th>4694</th>\n",
       "      <td>72.11</td>\n",
       "      <td>9.30</td>\n",
       "      <td>49.34</td>\n",
       "      <td>31.630000</td>\n",
       "      <td>1.37</td>\n",
       "      <td>4.07</td>\n",
       "      <td>31.13</td>\n",
       "      <td>1.40</td>\n",
       "      <td>139.000000</td>\n",
       "    </tr>\n",
       "    <tr>\n",
       "      <th>20633</th>\n",
       "      <td>94.81</td>\n",
       "      <td>9.74</td>\n",
       "      <td>30.64</td>\n",
       "      <td>32.309123</td>\n",
       "      <td>1.38</td>\n",
       "      <td>9.08</td>\n",
       "      <td>64.91</td>\n",
       "      <td>2.68</td>\n",
       "      <td>224.000000</td>\n",
       "    </tr>\n",
       "    <tr>\n",
       "      <th>...</th>\n",
       "      <td>...</td>\n",
       "      <td>...</td>\n",
       "      <td>...</td>\n",
       "      <td>...</td>\n",
       "      <td>...</td>\n",
       "      <td>...</td>\n",
       "      <td>...</td>\n",
       "      <td>...</td>\n",
       "      <td>...</td>\n",
       "    </tr>\n",
       "    <tr>\n",
       "      <th>6793</th>\n",
       "      <td>30.66</td>\n",
       "      <td>4.93</td>\n",
       "      <td>10.81</td>\n",
       "      <td>15.740000</td>\n",
       "      <td>2.50</td>\n",
       "      <td>12.38</td>\n",
       "      <td>7.73</td>\n",
       "      <td>0.70</td>\n",
       "      <td>107.000000</td>\n",
       "    </tr>\n",
       "    <tr>\n",
       "      <th>6773</th>\n",
       "      <td>55.84</td>\n",
       "      <td>3.62</td>\n",
       "      <td>11.86</td>\n",
       "      <td>15.490000</td>\n",
       "      <td>2.38</td>\n",
       "      <td>12.77</td>\n",
       "      <td>13.33</td>\n",
       "      <td>2.13</td>\n",
       "      <td>105.000000</td>\n",
       "    </tr>\n",
       "    <tr>\n",
       "      <th>5424</th>\n",
       "      <td>23.31</td>\n",
       "      <td>4.32</td>\n",
       "      <td>32.25</td>\n",
       "      <td>17.810000</td>\n",
       "      <td>0.93</td>\n",
       "      <td>12.74</td>\n",
       "      <td>42.53</td>\n",
       "      <td>0.01</td>\n",
       "      <td>87.000000</td>\n",
       "    </tr>\n",
       "    <tr>\n",
       "      <th>10145</th>\n",
       "      <td>21.19</td>\n",
       "      <td>0.75</td>\n",
       "      <td>63.41</td>\n",
       "      <td>64.170000</td>\n",
       "      <td>0.52</td>\n",
       "      <td>6.28</td>\n",
       "      <td>21.62</td>\n",
       "      <td>0.00</td>\n",
       "      <td>166.463581</td>\n",
       "    </tr>\n",
       "    <tr>\n",
       "      <th>13013</th>\n",
       "      <td>16.12</td>\n",
       "      <td>2.55</td>\n",
       "      <td>30.39</td>\n",
       "      <td>32.309123</td>\n",
       "      <td>0.94</td>\n",
       "      <td>6.60</td>\n",
       "      <td>18.17</td>\n",
       "      <td>0.00</td>\n",
       "      <td>72.000000</td>\n",
       "    </tr>\n",
       "  </tbody>\n",
       "</table>\n",
       "<p>25334 rows × 9 columns</p>\n",
       "</div>"
      ],
      "text/plain": [
       "       PM2.5     NO     NO2         NOx    CO    SO2     O3  Benzene  \\\n",
       "25358  30.29   8.13   17.13    9.370000  1.33  40.41  41.17     1.25   \n",
       "23276  64.04  42.26  110.16  152.420000  2.41  21.59  69.64     2.01   \n",
       "6151   52.07   5.09   31.67   30.740000  1.03  10.30  43.71     0.61   \n",
       "4694   72.11   9.30   49.34   31.630000  1.37   4.07  31.13     1.40   \n",
       "20633  94.81   9.74   30.64   32.309123  1.38   9.08  64.91     2.68   \n",
       "...      ...    ...     ...         ...   ...    ...    ...      ...   \n",
       "6793   30.66   4.93   10.81   15.740000  2.50  12.38   7.73     0.70   \n",
       "6773   55.84   3.62   11.86   15.490000  2.38  12.77  13.33     2.13   \n",
       "5424   23.31   4.32   32.25   17.810000  0.93  12.74  42.53     0.01   \n",
       "10145  21.19   0.75   63.41   64.170000  0.52   6.28  21.62     0.00   \n",
       "13013  16.12   2.55   30.39   32.309123  0.94   6.60  18.17     0.00   \n",
       "\n",
       "              AQI  \n",
       "25358   92.000000  \n",
       "23276  166.463581  \n",
       "6151   102.000000  \n",
       "4694   139.000000  \n",
       "20633  224.000000  \n",
       "...           ...  \n",
       "6793   107.000000  \n",
       "6773   105.000000  \n",
       "5424    87.000000  \n",
       "10145  166.463581  \n",
       "13013   72.000000  \n",
       "\n",
       "[25334 rows x 9 columns]"
      ]
     },
     "execution_count": 34,
     "metadata": {},
     "output_type": "execute_result"
    }
   ],
   "source": [
    "x_train"
   ]
  },
  {
   "cell_type": "code",
   "execution_count": 35,
   "metadata": {
    "colab": {
     "base_uri": "https://localhost:8080/",
     "height": 424
    },
    "executionInfo": {
     "elapsed": 125,
     "status": "ok",
     "timestamp": 1696177731035,
     "user": {
      "displayName": "CHINMAYA KUMAR PALO",
      "userId": "02836757995076046470"
     },
     "user_tz": -330
    },
    "id": "o7pggJzdxbgw",
    "outputId": "c0f29219-4698-48cc-a740-5330edce4ac6"
   },
   "outputs": [
    {
     "data": {
      "text/html": [
       "<div>\n",
       "<style scoped>\n",
       "    .dataframe tbody tr th:only-of-type {\n",
       "        vertical-align: middle;\n",
       "    }\n",
       "\n",
       "    .dataframe tbody tr th {\n",
       "        vertical-align: top;\n",
       "    }\n",
       "\n",
       "    .dataframe thead th {\n",
       "        text-align: right;\n",
       "    }\n",
       "</style>\n",
       "<table border=\"1\" class=\"dataframe\">\n",
       "  <thead>\n",
       "    <tr style=\"text-align: right;\">\n",
       "      <th></th>\n",
       "      <th>PM2.5</th>\n",
       "      <th>NO</th>\n",
       "      <th>NO2</th>\n",
       "      <th>NOx</th>\n",
       "      <th>CO</th>\n",
       "      <th>SO2</th>\n",
       "      <th>O3</th>\n",
       "      <th>Benzene</th>\n",
       "      <th>AQI</th>\n",
       "    </tr>\n",
       "  </thead>\n",
       "  <tbody>\n",
       "    <tr>\n",
       "      <th>20604</th>\n",
       "      <td>61.960000</td>\n",
       "      <td>9.78000</td>\n",
       "      <td>22.320000</td>\n",
       "      <td>32.309123</td>\n",
       "      <td>1.47</td>\n",
       "      <td>6.940000</td>\n",
       "      <td>39.17000</td>\n",
       "      <td>0.95</td>\n",
       "      <td>138.000000</td>\n",
       "    </tr>\n",
       "    <tr>\n",
       "      <th>3857</th>\n",
       "      <td>79.940000</td>\n",
       "      <td>17.26000</td>\n",
       "      <td>15.450000</td>\n",
       "      <td>32.710000</td>\n",
       "      <td>0.93</td>\n",
       "      <td>14.531977</td>\n",
       "      <td>27.80000</td>\n",
       "      <td>6.43</td>\n",
       "      <td>158.000000</td>\n",
       "    </tr>\n",
       "    <tr>\n",
       "      <th>15577</th>\n",
       "      <td>45.690000</td>\n",
       "      <td>9.31000</td>\n",
       "      <td>20.980000</td>\n",
       "      <td>10.800000</td>\n",
       "      <td>0.00</td>\n",
       "      <td>7.200000</td>\n",
       "      <td>29.15000</td>\n",
       "      <td>0.18</td>\n",
       "      <td>80.000000</td>\n",
       "    </tr>\n",
       "    <tr>\n",
       "      <th>7539</th>\n",
       "      <td>67.450578</td>\n",
       "      <td>7.93000</td>\n",
       "      <td>3.080000</td>\n",
       "      <td>11.040000</td>\n",
       "      <td>0.75</td>\n",
       "      <td>8.510000</td>\n",
       "      <td>34.62000</td>\n",
       "      <td>6.02</td>\n",
       "      <td>107.000000</td>\n",
       "    </tr>\n",
       "    <tr>\n",
       "      <th>22779</th>\n",
       "      <td>67.450578</td>\n",
       "      <td>17.57473</td>\n",
       "      <td>28.560659</td>\n",
       "      <td>32.309123</td>\n",
       "      <td>0.00</td>\n",
       "      <td>14.531977</td>\n",
       "      <td>34.49143</td>\n",
       "      <td>0.00</td>\n",
       "      <td>166.463581</td>\n",
       "    </tr>\n",
       "    <tr>\n",
       "      <th>...</th>\n",
       "      <td>...</td>\n",
       "      <td>...</td>\n",
       "      <td>...</td>\n",
       "      <td>...</td>\n",
       "      <td>...</td>\n",
       "      <td>...</td>\n",
       "      <td>...</td>\n",
       "      <td>...</td>\n",
       "      <td>...</td>\n",
       "    </tr>\n",
       "    <tr>\n",
       "      <th>4449</th>\n",
       "      <td>22.410000</td>\n",
       "      <td>2.59000</td>\n",
       "      <td>14.610000</td>\n",
       "      <td>19.410000</td>\n",
       "      <td>5.65</td>\n",
       "      <td>5.850000</td>\n",
       "      <td>27.39000</td>\n",
       "      <td>2.89</td>\n",
       "      <td>130.000000</td>\n",
       "    </tr>\n",
       "    <tr>\n",
       "      <th>23913</th>\n",
       "      <td>67.450578</td>\n",
       "      <td>20.77000</td>\n",
       "      <td>13.130000</td>\n",
       "      <td>33.850000</td>\n",
       "      <td>2.25</td>\n",
       "      <td>1.130000</td>\n",
       "      <td>12.67000</td>\n",
       "      <td>0.29</td>\n",
       "      <td>166.463581</td>\n",
       "    </tr>\n",
       "    <tr>\n",
       "      <th>8583</th>\n",
       "      <td>50.270000</td>\n",
       "      <td>6.76000</td>\n",
       "      <td>14.400000</td>\n",
       "      <td>12.560000</td>\n",
       "      <td>0.12</td>\n",
       "      <td>2.010000</td>\n",
       "      <td>43.31000</td>\n",
       "      <td>0.18</td>\n",
       "      <td>76.000000</td>\n",
       "    </tr>\n",
       "    <tr>\n",
       "      <th>15502</th>\n",
       "      <td>14.490000</td>\n",
       "      <td>7.93000</td>\n",
       "      <td>12.530000</td>\n",
       "      <td>6.550000</td>\n",
       "      <td>0.17</td>\n",
       "      <td>5.980000</td>\n",
       "      <td>28.55000</td>\n",
       "      <td>0.17</td>\n",
       "      <td>58.000000</td>\n",
       "    </tr>\n",
       "    <tr>\n",
       "      <th>23755</th>\n",
       "      <td>49.840000</td>\n",
       "      <td>42.39000</td>\n",
       "      <td>41.750000</td>\n",
       "      <td>84.120000</td>\n",
       "      <td>1.01</td>\n",
       "      <td>12.240000</td>\n",
       "      <td>36.00000</td>\n",
       "      <td>7.16</td>\n",
       "      <td>143.000000</td>\n",
       "    </tr>\n",
       "  </tbody>\n",
       "</table>\n",
       "<p>2815 rows × 9 columns</p>\n",
       "</div>"
      ],
      "text/plain": [
       "           PM2.5        NO        NO2        NOx    CO        SO2        O3  \\\n",
       "20604  61.960000   9.78000  22.320000  32.309123  1.47   6.940000  39.17000   \n",
       "3857   79.940000  17.26000  15.450000  32.710000  0.93  14.531977  27.80000   \n",
       "15577  45.690000   9.31000  20.980000  10.800000  0.00   7.200000  29.15000   \n",
       "7539   67.450578   7.93000   3.080000  11.040000  0.75   8.510000  34.62000   \n",
       "22779  67.450578  17.57473  28.560659  32.309123  0.00  14.531977  34.49143   \n",
       "...          ...       ...        ...        ...   ...        ...       ...   \n",
       "4449   22.410000   2.59000  14.610000  19.410000  5.65   5.850000  27.39000   \n",
       "23913  67.450578  20.77000  13.130000  33.850000  2.25   1.130000  12.67000   \n",
       "8583   50.270000   6.76000  14.400000  12.560000  0.12   2.010000  43.31000   \n",
       "15502  14.490000   7.93000  12.530000   6.550000  0.17   5.980000  28.55000   \n",
       "23755  49.840000  42.39000  41.750000  84.120000  1.01  12.240000  36.00000   \n",
       "\n",
       "       Benzene         AQI  \n",
       "20604     0.95  138.000000  \n",
       "3857      6.43  158.000000  \n",
       "15577     0.18   80.000000  \n",
       "7539      6.02  107.000000  \n",
       "22779     0.00  166.463581  \n",
       "...        ...         ...  \n",
       "4449      2.89  130.000000  \n",
       "23913     0.29  166.463581  \n",
       "8583      0.18   76.000000  \n",
       "15502     0.17   58.000000  \n",
       "23755     7.16  143.000000  \n",
       "\n",
       "[2815 rows x 9 columns]"
      ]
     },
     "execution_count": 35,
     "metadata": {},
     "output_type": "execute_result"
    }
   ],
   "source": [
    "x_test"
   ]
  },
  {
   "cell_type": "code",
   "execution_count": 36,
   "metadata": {
    "colab": {
     "base_uri": "https://localhost:8080/"
    },
    "executionInfo": {
     "elapsed": 124,
     "status": "ok",
     "timestamp": 1696177731035,
     "user": {
      "displayName": "CHINMAYA KUMAR PALO",
      "userId": "02836757995076046470"
     },
     "user_tz": -330
    },
    "id": "aUBsS3tMxeNY",
    "outputId": "3fedce89-6945-4ac1-bc0d-58ee2be96526"
   },
   "outputs": [
    {
     "data": {
      "text/plain": [
       "25358    3\n",
       "23276    1\n",
       "6151     1\n",
       "4694     1\n",
       "20633    2\n",
       "        ..\n",
       "6793     1\n",
       "6773     1\n",
       "5424     3\n",
       "10145    1\n",
       "13013    3\n",
       "Name: AQI_Bucket, Length: 25334, dtype: int64"
      ]
     },
     "execution_count": 36,
     "metadata": {},
     "output_type": "execute_result"
    }
   ],
   "source": [
    "y_train"
   ]
  },
  {
   "cell_type": "code",
   "execution_count": 37,
   "metadata": {
    "colab": {
     "base_uri": "https://localhost:8080/"
    },
    "executionInfo": {
     "elapsed": 123,
     "status": "ok",
     "timestamp": 1696177731035,
     "user": {
      "displayName": "CHINMAYA KUMAR PALO",
      "userId": "02836757995076046470"
     },
     "user_tz": -330
    },
    "id": "utEgtlEFxgs2",
    "outputId": "31e29b14-405c-43be-dc32-55f7f502e4ca"
   },
   "outputs": [
    {
     "data": {
      "text/plain": [
       "20604    1\n",
       "3857     1\n",
       "15577    3\n",
       "7539     1\n",
       "22779    1\n",
       "        ..\n",
       "4449     1\n",
       "23913    1\n",
       "8583     3\n",
       "15502    3\n",
       "23755    1\n",
       "Name: AQI_Bucket, Length: 2815, dtype: int64"
      ]
     },
     "execution_count": 37,
     "metadata": {},
     "output_type": "execute_result"
    }
   ],
   "source": [
    "y_test"
   ]
  },
  {
   "cell_type": "code",
   "execution_count": 38,
   "metadata": {
    "colab": {
     "base_uri": "https://localhost:8080/"
    },
    "executionInfo": {
     "elapsed": 122,
     "status": "ok",
     "timestamp": 1696177731035,
     "user": {
      "displayName": "CHINMAYA KUMAR PALO",
      "userId": "02836757995076046470"
     },
     "user_tz": -330
    },
    "id": "B7FSVEhmxi3O",
    "outputId": "6be6f386-27df-4773-89b9-f9ce4db17129"
   },
   "outputs": [
    {
     "data": {
      "text/plain": [
       "((25334, 9), (2815, 9), (25334,), (2815,))"
      ]
     },
     "execution_count": 38,
     "metadata": {},
     "output_type": "execute_result"
    }
   ],
   "source": [
    "x_train.shape,x_test.shape,y_train.shape,y_test.shape"
   ]
  },
  {
   "cell_type": "code",
   "execution_count": 39,
   "metadata": {
    "executionInfo": {
     "elapsed": 121,
     "status": "ok",
     "timestamp": 1696177731035,
     "user": {
      "displayName": "CHINMAYA KUMAR PALO",
      "userId": "02836757995076046470"
     },
     "user_tz": -330
    },
    "id": "PCC6QrKgxmPu"
   },
   "outputs": [],
   "source": [
    "#Standardizing the data:\n",
    "from sklearn.preprocessing import StandardScaler\n",
    "sc=StandardScaler()\n",
    "x_train=sc.fit_transform(x_train)\n",
    "x_test=sc.fit_transform(x_test)"
   ]
  },
  {
   "cell_type": "markdown",
   "metadata": {
    "id": "U0RjSVrMxvXd"
   },
   "source": [
    "# Applying Models"
   ]
  },
  {
   "cell_type": "markdown",
   "metadata": {
    "id": "i2ycoE0wx3E0"
   },
   "source": [
    "# Logistic Regression"
   ]
  },
  {
   "cell_type": "code",
   "execution_count": 40,
   "metadata": {
    "colab": {
     "base_uri": "https://localhost:8080/",
     "height": 214
    },
    "executionInfo": {
     "elapsed": 121,
     "status": "ok",
     "timestamp": 1696177731035,
     "user": {
      "displayName": "CHINMAYA KUMAR PALO",
      "userId": "02836757995076046470"
     },
     "user_tz": -330
    },
    "id": "JHYGai8oxrle",
    "outputId": "cd274f12-4a58-4e54-fb95-dc1e037b35ef"
   },
   "outputs": [
    {
     "name": "stderr",
     "output_type": "stream",
     "text": [
      "/Users/chinmayakumarpalo/anaconda3/lib/python3.10/site-packages/sklearn/linear_model/_logistic.py:458: ConvergenceWarning: lbfgs failed to converge (status=1):\n",
      "STOP: TOTAL NO. of ITERATIONS REACHED LIMIT.\n",
      "\n",
      "Increase the number of iterations (max_iter) or scale the data as shown in:\n",
      "    https://scikit-learn.org/stable/modules/preprocessing.html\n",
      "Please also refer to the documentation for alternative solver options:\n",
      "    https://scikit-learn.org/stable/modules/linear_model.html#logistic-regression\n",
      "  n_iter_i = _check_optimize_result(\n"
     ]
    },
    {
     "data": {
      "text/html": [
       "<style>#sk-container-id-1 {color: black;background-color: white;}#sk-container-id-1 pre{padding: 0;}#sk-container-id-1 div.sk-toggleable {background-color: white;}#sk-container-id-1 label.sk-toggleable__label {cursor: pointer;display: block;width: 100%;margin-bottom: 0;padding: 0.3em;box-sizing: border-box;text-align: center;}#sk-container-id-1 label.sk-toggleable__label-arrow:before {content: \"▸\";float: left;margin-right: 0.25em;color: #696969;}#sk-container-id-1 label.sk-toggleable__label-arrow:hover:before {color: black;}#sk-container-id-1 div.sk-estimator:hover label.sk-toggleable__label-arrow:before {color: black;}#sk-container-id-1 div.sk-toggleable__content {max-height: 0;max-width: 0;overflow: hidden;text-align: left;background-color: #f0f8ff;}#sk-container-id-1 div.sk-toggleable__content pre {margin: 0.2em;color: black;border-radius: 0.25em;background-color: #f0f8ff;}#sk-container-id-1 input.sk-toggleable__control:checked~div.sk-toggleable__content {max-height: 200px;max-width: 100%;overflow: auto;}#sk-container-id-1 input.sk-toggleable__control:checked~label.sk-toggleable__label-arrow:before {content: \"▾\";}#sk-container-id-1 div.sk-estimator input.sk-toggleable__control:checked~label.sk-toggleable__label {background-color: #d4ebff;}#sk-container-id-1 div.sk-label input.sk-toggleable__control:checked~label.sk-toggleable__label {background-color: #d4ebff;}#sk-container-id-1 input.sk-hidden--visually {border: 0;clip: rect(1px 1px 1px 1px);clip: rect(1px, 1px, 1px, 1px);height: 1px;margin: -1px;overflow: hidden;padding: 0;position: absolute;width: 1px;}#sk-container-id-1 div.sk-estimator {font-family: monospace;background-color: #f0f8ff;border: 1px dotted black;border-radius: 0.25em;box-sizing: border-box;margin-bottom: 0.5em;}#sk-container-id-1 div.sk-estimator:hover {background-color: #d4ebff;}#sk-container-id-1 div.sk-parallel-item::after {content: \"\";width: 100%;border-bottom: 1px solid gray;flex-grow: 1;}#sk-container-id-1 div.sk-label:hover label.sk-toggleable__label {background-color: #d4ebff;}#sk-container-id-1 div.sk-serial::before {content: \"\";position: absolute;border-left: 1px solid gray;box-sizing: border-box;top: 0;bottom: 0;left: 50%;z-index: 0;}#sk-container-id-1 div.sk-serial {display: flex;flex-direction: column;align-items: center;background-color: white;padding-right: 0.2em;padding-left: 0.2em;position: relative;}#sk-container-id-1 div.sk-item {position: relative;z-index: 1;}#sk-container-id-1 div.sk-parallel {display: flex;align-items: stretch;justify-content: center;background-color: white;position: relative;}#sk-container-id-1 div.sk-item::before, #sk-container-id-1 div.sk-parallel-item::before {content: \"\";position: absolute;border-left: 1px solid gray;box-sizing: border-box;top: 0;bottom: 0;left: 50%;z-index: -1;}#sk-container-id-1 div.sk-parallel-item {display: flex;flex-direction: column;z-index: 1;position: relative;background-color: white;}#sk-container-id-1 div.sk-parallel-item:first-child::after {align-self: flex-end;width: 50%;}#sk-container-id-1 div.sk-parallel-item:last-child::after {align-self: flex-start;width: 50%;}#sk-container-id-1 div.sk-parallel-item:only-child::after {width: 0;}#sk-container-id-1 div.sk-dashed-wrapped {border: 1px dashed gray;margin: 0 0.4em 0.5em 0.4em;box-sizing: border-box;padding-bottom: 0.4em;background-color: white;}#sk-container-id-1 div.sk-label label {font-family: monospace;font-weight: bold;display: inline-block;line-height: 1.2em;}#sk-container-id-1 div.sk-label-container {text-align: center;}#sk-container-id-1 div.sk-container {/* jupyter's `normalize.less` sets `[hidden] { display: none; }` but bootstrap.min.css set `[hidden] { display: none !important; }` so we also need the `!important` here to be able to override the default hidden behavior on the sphinx rendered scikit-learn.org. See: https://github.com/scikit-learn/scikit-learn/issues/21755 */display: inline-block !important;position: relative;}#sk-container-id-1 div.sk-text-repr-fallback {display: none;}</style><div id=\"sk-container-id-1\" class=\"sk-top-container\"><div class=\"sk-text-repr-fallback\"><pre>LogisticRegression()</pre><b>In a Jupyter environment, please rerun this cell to show the HTML representation or trust the notebook. <br />On GitHub, the HTML representation is unable to render, please try loading this page with nbviewer.org.</b></div><div class=\"sk-container\" hidden><div class=\"sk-item\"><div class=\"sk-estimator sk-toggleable\"><input class=\"sk-toggleable__control sk-hidden--visually\" id=\"sk-estimator-id-1\" type=\"checkbox\" checked><label for=\"sk-estimator-id-1\" class=\"sk-toggleable__label sk-toggleable__label-arrow\">LogisticRegression</label><div class=\"sk-toggleable__content\"><pre>LogisticRegression()</pre></div></div></div></div></div>"
      ],
      "text/plain": [
       "LogisticRegression()"
      ]
     },
     "execution_count": 40,
     "metadata": {},
     "output_type": "execute_result"
    }
   ],
   "source": [
    "from sklearn.linear_model import LogisticRegression\n",
    "lr=LogisticRegression()\n",
    "lr.fit(x_train,y_train)"
   ]
  },
  {
   "cell_type": "code",
   "execution_count": 41,
   "metadata": {
    "executionInfo": {
     "elapsed": 120,
     "status": "ok",
     "timestamp": 1696177731035,
     "user": {
      "displayName": "CHINMAYA KUMAR PALO",
      "userId": "02836757995076046470"
     },
     "user_tz": -330
    },
    "id": "fsPBt0CYx-sf"
   },
   "outputs": [],
   "source": [
    "#predection\n",
    "ypred=lr.predict(x_test)"
   ]
  },
  {
   "cell_type": "code",
   "execution_count": 42,
   "metadata": {
    "colab": {
     "base_uri": "https://localhost:8080/"
    },
    "executionInfo": {
     "elapsed": 120,
     "status": "ok",
     "timestamp": 1696177731035,
     "user": {
      "displayName": "CHINMAYA KUMAR PALO",
      "userId": "02836757995076046470"
     },
     "user_tz": -330
    },
    "id": "1BsDz3KmyA1V",
    "outputId": "7f39e54b-fb7c-4763-e878-410aea05f4bb"
   },
   "outputs": [
    {
     "data": {
      "text/plain": [
       "array([1, 1, 3, ..., 3, 3, 1])"
      ]
     },
     "execution_count": 42,
     "metadata": {},
     "output_type": "execute_result"
    }
   ],
   "source": [
    "ypred"
   ]
  },
  {
   "cell_type": "code",
   "execution_count": 43,
   "metadata": {
    "colab": {
     "base_uri": "https://localhost:8080/"
    },
    "executionInfo": {
     "elapsed": 119,
     "status": "ok",
     "timestamp": 1696177731035,
     "user": {
      "displayName": "CHINMAYA KUMAR PALO",
      "userId": "02836757995076046470"
     },
     "user_tz": -330
    },
    "id": "IySUhx1tyDRN",
    "outputId": "ddd3eed2-c8c2-4cb8-c372-db47beac57ed"
   },
   "outputs": [
    {
     "name": "stdout",
     "output_type": "stream",
     "text": [
      "accuracy= 95.5595026642984 %\n"
     ]
    }
   ],
   "source": [
    "from sklearn.metrics import accuracy_score\n",
    "# calculating the accuracy score\n",
    "print('accuracy=', (accuracy_score(y_test, ypred))*100, '%')"
   ]
  },
  {
   "cell_type": "code",
   "execution_count": 44,
   "metadata": {
    "executionInfo": {
     "elapsed": 119,
     "status": "ok",
     "timestamp": 1696177731035,
     "user": {
      "displayName": "CHINMAYA KUMAR PALO",
      "userId": "02836757995076046470"
     },
     "user_tz": -330
    },
    "id": "OafNjRP8yIxs"
   },
   "outputs": [],
   "source": [
    "df_results = pd.DataFrame({'original': y_test, 'predicted': ypred})"
   ]
  },
  {
   "cell_type": "code",
   "execution_count": 45,
   "metadata": {
    "colab": {
     "base_uri": "https://localhost:8080/",
     "height": 564
    },
    "executionInfo": {
     "elapsed": 4624,
     "status": "ok",
     "timestamp": 1696177735540,
     "user": {
      "displayName": "CHINMAYA KUMAR PALO",
      "userId": "02836757995076046470"
     },
     "user_tz": -330
    },
    "id": "VEEOcMAUyMXE",
    "outputId": "c3cc1cf5-e2d9-4ed9-88d1-e246abc39d97"
   },
   "outputs": [
    {
     "name": "stderr",
     "output_type": "stream",
     "text": [
      "/Users/chinmayakumarpalo/anaconda3/lib/python3.10/site-packages/statsmodels/genmod/families/links.py:187: RuntimeWarning: overflow encountered in exp\n",
      "  t = np.exp(-z)\n"
     ]
    },
    {
     "data": {
      "image/png": "[encoded data removed]",
      "text/plain": [
       "<Figure size 500x500 with 1 Axes>"
      ]
     },
     "metadata": {},
     "output_type": "display_data"
    }
   ],
   "source": [
    "sns.lmplot(x='predicted', y='original', data=df_results, line_kws={'color': 'red'},logistic=True)\n",
    "plt.xlabel('original')\n",
    "plt.ylabel('predicted')\n",
    "plt.title('Logistic Regression with Sigmoid Function')\n",
    "plt.grid(True)\n",
    "plt.show()"
   ]
  },
  {
   "cell_type": "code",
   "execution_count": 46,
   "metadata": {
    "executionInfo": {
     "elapsed": 142,
     "status": "ok",
     "timestamp": 1696177735540,
     "user": {
      "displayName": "CHINMAYA KUMAR PALO",
      "userId": "02836757995076046470"
     },
     "user_tz": -330
    },
    "id": "qpL9J9kPyOUB"
   },
   "outputs": [],
   "source": [
    "from sklearn.metrics import confusion_matrix,ConfusionMatrixDisplay\n",
    "cm=confusion_matrix(y_test,ypred)"
   ]
  },
  {
   "cell_type": "code",
   "execution_count": 47,
   "metadata": {
    "colab": {
     "base_uri": "https://localhost:8080/"
    },
    "executionInfo": {
     "elapsed": 141,
     "status": "ok",
     "timestamp": 1696177735540,
     "user": {
      "displayName": "CHINMAYA KUMAR PALO",
      "userId": "02836757995076046470"
     },
     "user_tz": -330
    },
    "id": "Hvhj9Qnh0M1l",
    "outputId": "a1cf93c2-c90a-4055-a783-7975cc3862e1"
   },
   "outputs": [
    {
     "data": {
      "text/plain": [
       "array([[ 107,    0,    0,   19,    0,    0],\n",
       "       [   0, 1201,    0,   49,    0,    0],\n",
       "       [   0,   26,  245,    0,    0,    1],\n",
       "       [   0,    2,    0,  789,    0,    0],\n",
       "       [   0,    0,    0,    0,  132,   16],\n",
       "       [   0,    0,   12,    0,    0,  216]])"
      ]
     },
     "execution_count": 47,
     "metadata": {},
     "output_type": "execute_result"
    }
   ],
   "source": [
    "cm"
   ]
  },
  {
   "cell_type": "code",
   "execution_count": 48,
   "metadata": {
    "colab": {
     "base_uri": "https://localhost:8080/",
     "height": 449
    },
    "executionInfo": {
     "elapsed": 139,
     "status": "ok",
     "timestamp": 1696177735540,
     "user": {
      "displayName": "CHINMAYA KUMAR PALO",
      "userId": "02836757995076046470"
     },
     "user_tz": -330
    },
    "id": "uDLqKebG0Olg",
    "outputId": "c26854d7-21c7-4871-d1a5-132a7597c030"
   },
   "outputs": [
    {
     "data": {
      "image/png": "[encoded data removed]",
      "text/plain": [
       "<Figure size 640x480 with 2 Axes>"
      ]
     },
     "metadata": {},
     "output_type": "display_data"
    }
   ],
   "source": [
    "cmd=ConfusionMatrixDisplay(cm)\n",
    "cmd.plot()\n",
    "plt.show()"
   ]
  },
  {
   "cell_type": "markdown",
   "metadata": {
    "id": "0F854e7F0cbj"
   },
   "source": [
    "# Naive Bayes"
   ]
  },
  {
   "cell_type": "code",
   "execution_count": 49,
   "metadata": {
    "colab": {
     "base_uri": "https://localhost:8080/",
     "height": 75
    },
    "executionInfo": {
     "elapsed": 138,
     "status": "ok",
     "timestamp": 1696177735540,
     "user": {
      "displayName": "CHINMAYA KUMAR PALO",
      "userId": "02836757995076046470"
     },
     "user_tz": -330
    },
    "id": "uZrYS_g10Xpu",
    "outputId": "26d430ee-6b1d-4613-f7c2-79597de238ee"
   },
   "outputs": [
    {
     "data": {
      "text/html": [
       "<style>#sk-container-id-2 {color: black;background-color: white;}#sk-container-id-2 pre{padding: 0;}#sk-container-id-2 div.sk-toggleable {background-color: white;}#sk-container-id-2 label.sk-toggleable__label {cursor: pointer;display: block;width: 100%;margin-bottom: 0;padding: 0.3em;box-sizing: border-box;text-align: center;}#sk-container-id-2 label.sk-toggleable__label-arrow:before {content: \"▸\";float: left;margin-right: 0.25em;color: #696969;}#sk-container-id-2 label.sk-toggleable__label-arrow:hover:before {color: black;}#sk-container-id-2 div.sk-estimator:hover label.sk-toggleable__label-arrow:before {color: black;}#sk-container-id-2 div.sk-toggleable__content {max-height: 0;max-width: 0;overflow: hidden;text-align: left;background-color: #f0f8ff;}#sk-container-id-2 div.sk-toggleable__content pre {margin: 0.2em;color: black;border-radius: 0.25em;background-color: #f0f8ff;}#sk-container-id-2 input.sk-toggleable__control:checked~div.sk-toggleable__content {max-height: 200px;max-width: 100%;overflow: auto;}#sk-container-id-2 input.sk-toggleable__control:checked~label.sk-toggleable__label-arrow:before {content: \"▾\";}#sk-container-id-2 div.sk-estimator input.sk-toggleable__control:checked~label.sk-toggleable__label {background-color: #d4ebff;}#sk-container-id-2 div.sk-label input.sk-toggleable__control:checked~label.sk-toggleable__label {background-color: #d4ebff;}#sk-container-id-2 input.sk-hidden--visually {border: 0;clip: rect(1px 1px 1px 1px);clip: rect(1px, 1px, 1px, 1px);height: 1px;margin: -1px;overflow: hidden;padding: 0;position: absolute;width: 1px;}#sk-container-id-2 div.sk-estimator {font-family: monospace;background-color: #f0f8ff;border: 1px dotted black;border-radius: 0.25em;box-sizing: border-box;margin-bottom: 0.5em;}#sk-container-id-2 div.sk-estimator:hover {background-color: #d4ebff;}#sk-container-id-2 div.sk-parallel-item::after {content: \"\";width: 100%;border-bottom: 1px solid gray;flex-grow: 1;}#sk-container-id-2 div.sk-label:hover label.sk-toggleable__label {background-color: #d4ebff;}#sk-container-id-2 div.sk-serial::before {content: \"\";position: absolute;border-left: 1px solid gray;box-sizing: border-box;top: 0;bottom: 0;left: 50%;z-index: 0;}#sk-container-id-2 div.sk-serial {display: flex;flex-direction: column;align-items: center;background-color: white;padding-right: 0.2em;padding-left: 0.2em;position: relative;}#sk-container-id-2 div.sk-item {position: relative;z-index: 1;}#sk-container-id-2 div.sk-parallel {display: flex;align-items: stretch;justify-content: center;background-color: white;position: relative;}#sk-container-id-2 div.sk-item::before, #sk-container-id-2 div.sk-parallel-item::before {content: \"\";position: absolute;border-left: 1px solid gray;box-sizing: border-box;top: 0;bottom: 0;left: 50%;z-index: -1;}#sk-container-id-2 div.sk-parallel-item {display: flex;flex-direction: column;z-index: 1;position: relative;background-color: white;}#sk-container-id-2 div.sk-parallel-item:first-child::after {align-self: flex-end;width: 50%;}#sk-container-id-2 div.sk-parallel-item:last-child::after {align-self: flex-start;width: 50%;}#sk-container-id-2 div.sk-parallel-item:only-child::after {width: 0;}#sk-container-id-2 div.sk-dashed-wrapped {border: 1px dashed gray;margin: 0 0.4em 0.5em 0.4em;box-sizing: border-box;padding-bottom: 0.4em;background-color: white;}#sk-container-id-2 div.sk-label label {font-family: monospace;font-weight: bold;display: inline-block;line-height: 1.2em;}#sk-container-id-2 div.sk-label-container {text-align: center;}#sk-container-id-2 div.sk-container {/* jupyter's `normalize.less` sets `[hidden] { display: none; }` but bootstrap.min.css set `[hidden] { display: none !important; }` so we also need the `!important` here to be able to override the default hidden behavior on the sphinx rendered scikit-learn.org. See: https://github.com/scikit-learn/scikit-learn/issues/21755 */display: inline-block !important;position: relative;}#sk-container-id-2 div.sk-text-repr-fallback {display: none;}</style><div id=\"sk-container-id-2\" class=\"sk-top-container\"><div class=\"sk-text-repr-fallback\"><pre>GaussianNB()</pre><b>In a Jupyter environment, please rerun this cell to show the HTML representation or trust the notebook. <br />On GitHub, the HTML representation is unable to render, please try loading this page with nbviewer.org.</b></div><div class=\"sk-container\" hidden><div class=\"sk-item\"><div class=\"sk-estimator sk-toggleable\"><input class=\"sk-toggleable__control sk-hidden--visually\" id=\"sk-estimator-id-2\" type=\"checkbox\" checked><label for=\"sk-estimator-id-2\" class=\"sk-toggleable__label sk-toggleable__label-arrow\">GaussianNB</label><div class=\"sk-toggleable__content\"><pre>GaussianNB()</pre></div></div></div></div></div>"
      ],
      "text/plain": [
       "GaussianNB()"
      ]
     },
     "execution_count": 49,
     "metadata": {},
     "output_type": "execute_result"
    }
   ],
   "source": [
    "from sklearn.naive_bayes import GaussianNB\n",
    "nb=GaussianNB()\n",
    "nb.fit(x_train,y_train)"
   ]
  },
  {
   "cell_type": "code",
   "execution_count": 50,
   "metadata": {
    "executionInfo": {
     "elapsed": 137,
     "status": "ok",
     "timestamp": 1696177735540,
     "user": {
      "displayName": "CHINMAYA KUMAR PALO",
      "userId": "02836757995076046470"
     },
     "user_tz": -330
    },
    "id": "Imo4xqrK0h-6"
   },
   "outputs": [],
   "source": [
    "ypred1=nb.predict(x_test)"
   ]
  },
  {
   "cell_type": "code",
   "execution_count": 51,
   "metadata": {
    "colab": {
     "base_uri": "https://localhost:8080/"
    },
    "executionInfo": {
     "elapsed": 137,
     "status": "ok",
     "timestamp": 1696177735540,
     "user": {
      "displayName": "CHINMAYA KUMAR PALO",
      "userId": "02836757995076046470"
     },
     "user_tz": -330
    },
    "id": "yhctfcYl0j3_",
    "outputId": "b56866fb-dee3-482f-abde-e51a80e3a10c"
   },
   "outputs": [
    {
     "data": {
      "text/plain": [
       "84.1563055062167"
      ]
     },
     "execution_count": 51,
     "metadata": {},
     "output_type": "execute_result"
    }
   ],
   "source": [
    "from sklearn.metrics import accuracy_score,recall_score,precision_score,f1_score\n",
    "accuracy=accuracy_score(ypred1,y_test)\n",
    "accuracy*100"
   ]
  },
  {
   "cell_type": "code",
   "execution_count": 52,
   "metadata": {
    "executionInfo": {
     "elapsed": 1594,
     "status": "ok",
     "timestamp": 1696177736999,
     "user": {
      "displayName": "CHINMAYA KUMAR PALO",
      "userId": "02836757995076046470"
     },
     "user_tz": -330
    },
    "id": "pD3bKQFi0uiH"
   },
   "outputs": [],
   "source": [
    "from sklearn.metrics import confusion_matrix,ConfusionMatrixDisplay\n",
    "cm=confusion_matrix(y_test,ypred1)\n",
    "cmd=ConfusionMatrixDisplay(cm)"
   ]
  },
  {
   "cell_type": "code",
   "execution_count": 53,
   "metadata": {
    "colab": {
     "base_uri": "https://localhost:8080/"
    },
    "executionInfo": {
     "elapsed": 162,
     "status": "ok",
     "timestamp": 1696177737000,
     "user": {
      "displayName": "CHINMAYA KUMAR PALO",
      "userId": "02836757995076046470"
     },
     "user_tz": -330
    },
    "id": "LnWdChTK1Bwq",
    "outputId": "01aadf0f-4dd9-455d-b0c3-0743598e103e"
   },
   "outputs": [
    {
     "data": {
      "text/plain": [
       "array([[ 118,    2,    0,    6,    0,    0],\n",
       "       [   1, 1005,   19,  201,   24,    0],\n",
       "       [   0,   28,  221,    0,   16,    7],\n",
       "       [  40,   35,    0,  714,    2,    0],\n",
       "       [   0,    0,    0,    0,  120,   28],\n",
       "       [   0,    0,   22,    0,   15,  191]])"
      ]
     },
     "execution_count": 53,
     "metadata": {},
     "output_type": "execute_result"
    }
   ],
   "source": [
    "cm"
   ]
  },
  {
   "cell_type": "code",
   "execution_count": 54,
   "metadata": {
    "colab": {
     "base_uri": "https://localhost:8080/",
     "height": 452
    },
    "executionInfo": {
     "elapsed": 160,
     "status": "ok",
     "timestamp": 1696177737000,
     "user": {
      "displayName": "CHINMAYA KUMAR PALO",
      "userId": "02836757995076046470"
     },
     "user_tz": -330
    },
    "id": "qHSrr9mm1GcI",
    "outputId": "8749e638-922e-4b45-9804-f0ccddbc2e2b"
   },
   "outputs": [
    {
     "data": {
      "image/png": "[encoded data removed]",
      "text/plain": [
       "<Figure size 640x480 with 2 Axes>"
      ]
     },
     "metadata": {},
     "output_type": "display_data"
    }
   ],
   "source": [
    "cmd.plot()\n",
    "plt.show()"
   ]
  },
  {
   "cell_type": "markdown",
   "metadata": {
    "id": "xeD1L9eW1LGl"
   },
   "source": [
    "# KNN"
   ]
  },
  {
   "cell_type": "code",
   "execution_count": 55,
   "metadata": {
    "colab": {
     "base_uri": "https://localhost:8080/",
     "height": 75
    },
    "executionInfo": {
     "elapsed": 158,
     "status": "ok",
     "timestamp": 1696177737000,
     "user": {
      "displayName": "CHINMAYA KUMAR PALO",
      "userId": "02836757995076046470"
     },
     "user_tz": -330
    },
    "id": "G_jAymNm1OAZ",
    "outputId": "6eba140e-fcaf-4d73-b078-029a9507a951"
   },
   "outputs": [
    {
     "data": {
      "text/html": [
       "<style>#sk-container-id-3 {color: black;background-color: white;}#sk-container-id-3 pre{padding: 0;}#sk-container-id-3 div.sk-toggleable {background-color: white;}#sk-container-id-3 label.sk-toggleable__label {cursor: pointer;display: block;width: 100%;margin-bottom: 0;padding: 0.3em;box-sizing: border-box;text-align: center;}#sk-container-id-3 label.sk-toggleable__label-arrow:before {content: \"▸\";float: left;margin-right: 0.25em;color: #696969;}#sk-container-id-3 label.sk-toggleable__label-arrow:hover:before {color: black;}#sk-container-id-3 div.sk-estimator:hover label.sk-toggleable__label-arrow:before {color: black;}#sk-container-id-3 div.sk-toggleable__content {max-height: 0;max-width: 0;overflow: hidden;text-align: left;background-color: #f0f8ff;}#sk-container-id-3 div.sk-toggleable__content pre {margin: 0.2em;color: black;border-radius: 0.25em;background-color: #f0f8ff;}#sk-container-id-3 input.sk-toggleable__control:checked~div.sk-toggleable__content {max-height: 200px;max-width: 100%;overflow: auto;}#sk-container-id-3 input.sk-toggleable__control:checked~label.sk-toggleable__label-arrow:before {content: \"▾\";}#sk-container-id-3 div.sk-estimator input.sk-toggleable__control:checked~label.sk-toggleable__label {background-color: #d4ebff;}#sk-container-id-3 div.sk-label input.sk-toggleable__control:checked~label.sk-toggleable__label {background-color: #d4ebff;}#sk-container-id-3 input.sk-hidden--visually {border: 0;clip: rect(1px 1px 1px 1px);clip: rect(1px, 1px, 1px, 1px);height: 1px;margin: -1px;overflow: hidden;padding: 0;position: absolute;width: 1px;}#sk-container-id-3 div.sk-estimator {font-family: monospace;background-color: #f0f8ff;border: 1px dotted black;border-radius: 0.25em;box-sizing: border-box;margin-bottom: 0.5em;}#sk-container-id-3 div.sk-estimator:hover {background-color: #d4ebff;}#sk-container-id-3 div.sk-parallel-item::after {content: \"\";width: 100%;border-bottom: 1px solid gray;flex-grow: 1;}#sk-container-id-3 div.sk-label:hover label.sk-toggleable__label {background-color: #d4ebff;}#sk-container-id-3 div.sk-serial::before {content: \"\";position: absolute;border-left: 1px solid gray;box-sizing: border-box;top: 0;bottom: 0;left: 50%;z-index: 0;}#sk-container-id-3 div.sk-serial {display: flex;flex-direction: column;align-items: center;background-color: white;padding-right: 0.2em;padding-left: 0.2em;position: relative;}#sk-container-id-3 div.sk-item {position: relative;z-index: 1;}#sk-container-id-3 div.sk-parallel {display: flex;align-items: stretch;justify-content: center;background-color: white;position: relative;}#sk-container-id-3 div.sk-item::before, #sk-container-id-3 div.sk-parallel-item::before {content: \"\";position: absolute;border-left: 1px solid gray;box-sizing: border-box;top: 0;bottom: 0;left: 50%;z-index: -1;}#sk-container-id-3 div.sk-parallel-item {display: flex;flex-direction: column;z-index: 1;position: relative;background-color: white;}#sk-container-id-3 div.sk-parallel-item:first-child::after {align-self: flex-end;width: 50%;}#sk-container-id-3 div.sk-parallel-item:last-child::after {align-self: flex-start;width: 50%;}#sk-container-id-3 div.sk-parallel-item:only-child::after {width: 0;}#sk-container-id-3 div.sk-dashed-wrapped {border: 1px dashed gray;margin: 0 0.4em 0.5em 0.4em;box-sizing: border-box;padding-bottom: 0.4em;background-color: white;}#sk-container-id-3 div.sk-label label {font-family: monospace;font-weight: bold;display: inline-block;line-height: 1.2em;}#sk-container-id-3 div.sk-label-container {text-align: center;}#sk-container-id-3 div.sk-container {/* jupyter's `normalize.less` sets `[hidden] { display: none; }` but bootstrap.min.css set `[hidden] { display: none !important; }` so we also need the `!important` here to be able to override the default hidden behavior on the sphinx rendered scikit-learn.org. See: https://github.com/scikit-learn/scikit-learn/issues/21755 */display: inline-block !important;position: relative;}#sk-container-id-3 div.sk-text-repr-fallback {display: none;}</style><div id=\"sk-container-id-3\" class=\"sk-top-container\"><div class=\"sk-text-repr-fallback\"><pre>KNeighborsClassifier(n_neighbors=3)</pre><b>In a Jupyter environment, please rerun this cell to show the HTML representation or trust the notebook. <br />On GitHub, the HTML representation is unable to render, please try loading this page with nbviewer.org.</b></div><div class=\"sk-container\" hidden><div class=\"sk-item\"><div class=\"sk-estimator sk-toggleable\"><input class=\"sk-toggleable__control sk-hidden--visually\" id=\"sk-estimator-id-3\" type=\"checkbox\" checked><label for=\"sk-estimator-id-3\" class=\"sk-toggleable__label sk-toggleable__label-arrow\">KNeighborsClassifier</label><div class=\"sk-toggleable__content\"><pre>KNeighborsClassifier(n_neighbors=3)</pre></div></div></div></div></div>"
      ],
      "text/plain": [
       "KNeighborsClassifier(n_neighbors=3)"
      ]
     },
     "execution_count": 55,
     "metadata": {},
     "output_type": "execute_result"
    }
   ],
   "source": [
    "from sklearn.neighbors import KNeighborsClassifier\n",
    "knn= KNeighborsClassifier(n_neighbors=3)\n",
    "knn.fit(x_train,y_train)"
   ]
  },
  {
   "cell_type": "code",
   "execution_count": 56,
   "metadata": {
    "executionInfo": {
     "elapsed": 156,
     "status": "ok",
     "timestamp": 1696177737000,
     "user": {
      "displayName": "CHINMAYA KUMAR PALO",
      "userId": "02836757995076046470"
     },
     "user_tz": -330
    },
    "id": "PX-eAmlP1RJA"
   },
   "outputs": [],
   "source": [
    "ypred2=knn.predict(x_test)"
   ]
  },
  {
   "cell_type": "code",
   "execution_count": 57,
   "metadata": {
    "colab": {
     "base_uri": "https://localhost:8080/"
    },
    "executionInfo": {
     "elapsed": 156,
     "status": "ok",
     "timestamp": 1696177737000,
     "user": {
      "displayName": "CHINMAYA KUMAR PALO",
      "userId": "02836757995076046470"
     },
     "user_tz": -330
    },
    "id": "1ooQ2qSJ1Tla",
    "outputId": "7afe355e-f13c-4b41-9e32-97b8db224268"
   },
   "outputs": [
    {
     "data": {
      "text/plain": [
       "87.38898756660745"
      ]
     },
     "execution_count": 57,
     "metadata": {},
     "output_type": "execute_result"
    }
   ],
   "source": [
    "from sklearn.metrics import accuracy_score,recall_score,precision_score,f1_score\n",
    "accuracy=accuracy_score(ypred2,y_test)\n",
    "accuracy*100"
   ]
  },
  {
   "cell_type": "code",
   "execution_count": 58,
   "metadata": {
    "executionInfo": {
     "elapsed": 152,
     "status": "ok",
     "timestamp": 1696177737000,
     "user": {
      "displayName": "CHINMAYA KUMAR PALO",
      "userId": "02836757995076046470"
     },
     "user_tz": -330
    },
    "id": "Q7RoiIyR1aNC"
   },
   "outputs": [],
   "source": [
    "from sklearn.metrics import confusion_matrix,ConfusionMatrixDisplay\n",
    "cm=confusion_matrix(y_test,ypred2)\n",
    "cmd=ConfusionMatrixDisplay(cm)"
   ]
  },
  {
   "cell_type": "code",
   "execution_count": 59,
   "metadata": {
    "colab": {
     "base_uri": "https://localhost:8080/"
    },
    "executionInfo": {
     "elapsed": 151,
     "status": "ok",
     "timestamp": 1696177737000,
     "user": {
      "displayName": "CHINMAYA KUMAR PALO",
      "userId": "02836757995076046470"
     },
     "user_tz": -330
    },
    "id": "6FU6S0Wd1cjM",
    "outputId": "f24889e2-1be6-4e56-82d3-613c1599fdba"
   },
   "outputs": [
    {
     "data": {
      "text/plain": [
       "array([[  95,    0,    0,   31,    0,    0],\n",
       "       [   0, 1113,   24,  110,    2,    1],\n",
       "       [   0,   46,  209,    0,    1,   16],\n",
       "       [  23,   49,    0,  719,    0,    0],\n",
       "       [   0,    0,    0,    0,  124,   24],\n",
       "       [   0,    2,   20,    0,    6,  200]])"
      ]
     },
     "execution_count": 59,
     "metadata": {},
     "output_type": "execute_result"
    }
   ],
   "source": [
    "cm"
   ]
  },
  {
   "cell_type": "code",
   "execution_count": 60,
   "metadata": {
    "colab": {
     "base_uri": "https://localhost:8080/",
     "height": 449
    },
    "executionInfo": {
     "elapsed": 149,
     "status": "ok",
     "timestamp": 1696177737000,
     "user": {
      "displayName": "CHINMAYA KUMAR PALO",
      "userId": "02836757995076046470"
     },
     "user_tz": -330
    },
    "id": "zVMFqego1ee7",
    "outputId": "1c7e5797-a05d-4668-e491-453557b568e3"
   },
   "outputs": [
    {
     "data": {
      "image/png": "[encoded data removed]",
      "text/plain": [
       "<Figure size 640x480 with 2 Axes>"
      ]
     },
     "metadata": {},
     "output_type": "display_data"
    }
   ],
   "source": [
    "cmd.plot()\n",
    "plt.show()"
   ]
  },
  {
   "cell_type": "markdown",
   "metadata": {
    "id": "1_f4rx3C1ie1"
   },
   "source": [
    "# SVM"
   ]
  },
  {
   "cell_type": "code",
   "execution_count": 61,
   "metadata": {
    "colab": {
     "base_uri": "https://localhost:8080/",
     "height": 75
    },
    "executionInfo": {
     "elapsed": 1874,
     "status": "ok",
     "timestamp": 1696177726275,
     "user": {
      "displayName": "CHINMAYA KUMAR PALO",
      "userId": "02836757995076046470"
     },
     "user_tz": -330
    },
    "id": "rZtKor4K1gV6",
    "outputId": "e3b143f0-bac8-4d2c-f5a4-6c5095b7ee48"
   },
   "outputs": [
    {
     "data": {
      "text/html": [
       "<style>#sk-container-id-4 {color: black;background-color: white;}#sk-container-id-4 pre{padding: 0;}#sk-container-id-4 div.sk-toggleable {background-color: white;}#sk-container-id-4 label.sk-toggleable__label {cursor: pointer;display: block;width: 100%;margin-bottom: 0;padding: 0.3em;box-sizing: border-box;text-align: center;}#sk-container-id-4 label.sk-toggleable__label-arrow:before {content: \"▸\";float: left;margin-right: 0.25em;color: #696969;}#sk-container-id-4 label.sk-toggleable__label-arrow:hover:before {color: black;}#sk-container-id-4 div.sk-estimator:hover label.sk-toggleable__label-arrow:before {color: black;}#sk-container-id-4 div.sk-toggleable__content {max-height: 0;max-width: 0;overflow: hidden;text-align: left;background-color: #f0f8ff;}#sk-container-id-4 div.sk-toggleable__content pre {margin: 0.2em;color: black;border-radius: 0.25em;background-color: #f0f8ff;}#sk-container-id-4 input.sk-toggleable__control:checked~div.sk-toggleable__content {max-height: 200px;max-width: 100%;overflow: auto;}#sk-container-id-4 input.sk-toggleable__control:checked~label.sk-toggleable__label-arrow:before {content: \"▾\";}#sk-container-id-4 div.sk-estimator input.sk-toggleable__control:checked~label.sk-toggleable__label {background-color: #d4ebff;}#sk-container-id-4 div.sk-label input.sk-toggleable__control:checked~label.sk-toggleable__label {background-color: #d4ebff;}#sk-container-id-4 input.sk-hidden--visually {border: 0;clip: rect(1px 1px 1px 1px);clip: rect(1px, 1px, 1px, 1px);height: 1px;margin: -1px;overflow: hidden;padding: 0;position: absolute;width: 1px;}#sk-container-id-4 div.sk-estimator {font-family: monospace;background-color: #f0f8ff;border: 1px dotted black;border-radius: 0.25em;box-sizing: border-box;margin-bottom: 0.5em;}#sk-container-id-4 div.sk-estimator:hover {background-color: #d4ebff;}#sk-container-id-4 div.sk-parallel-item::after {content: \"\";width: 100%;border-bottom: 1px solid gray;flex-grow: 1;}#sk-container-id-4 div.sk-label:hover label.sk-toggleable__label {background-color: #d4ebff;}#sk-container-id-4 div.sk-serial::before {content: \"\";position: absolute;border-left: 1px solid gray;box-sizing: border-box;top: 0;bottom: 0;left: 50%;z-index: 0;}#sk-container-id-4 div.sk-serial {display: flex;flex-direction: column;align-items: center;background-color: white;padding-right: 0.2em;padding-left: 0.2em;position: relative;}#sk-container-id-4 div.sk-item {position: relative;z-index: 1;}#sk-container-id-4 div.sk-parallel {display: flex;align-items: stretch;justify-content: center;background-color: white;position: relative;}#sk-container-id-4 div.sk-item::before, #sk-container-id-4 div.sk-parallel-item::before {content: \"\";position: absolute;border-left: 1px solid gray;box-sizing: border-box;top: 0;bottom: 0;left: 50%;z-index: -1;}#sk-container-id-4 div.sk-parallel-item {display: flex;flex-direction: column;z-index: 1;position: relative;background-color: white;}#sk-container-id-4 div.sk-parallel-item:first-child::after {align-self: flex-end;width: 50%;}#sk-container-id-4 div.sk-parallel-item:last-child::after {align-self: flex-start;width: 50%;}#sk-container-id-4 div.sk-parallel-item:only-child::after {width: 0;}#sk-container-id-4 div.sk-dashed-wrapped {border: 1px dashed gray;margin: 0 0.4em 0.5em 0.4em;box-sizing: border-box;padding-bottom: 0.4em;background-color: white;}#sk-container-id-4 div.sk-label label {font-family: monospace;font-weight: bold;display: inline-block;line-height: 1.2em;}#sk-container-id-4 div.sk-label-container {text-align: center;}#sk-container-id-4 div.sk-container {/* jupyter's `normalize.less` sets `[hidden] { display: none; }` but bootstrap.min.css set `[hidden] { display: none !important; }` so we also need the `!important` here to be able to override the default hidden behavior on the sphinx rendered scikit-learn.org. See: https://github.com/scikit-learn/scikit-learn/issues/21755 */display: inline-block !important;position: relative;}#sk-container-id-4 div.sk-text-repr-fallback {display: none;}</style><div id=\"sk-container-id-4\" class=\"sk-top-container\"><div class=\"sk-text-repr-fallback\"><pre>SVC(C=1000, gamma=0.01)</pre><b>In a Jupyter environment, please rerun this cell to show the HTML representation or trust the notebook. <br />On GitHub, the HTML representation is unable to render, please try loading this page with nbviewer.org.</b></div><div class=\"sk-container\" hidden><div class=\"sk-item\"><div class=\"sk-estimator sk-toggleable\"><input class=\"sk-toggleable__control sk-hidden--visually\" id=\"sk-estimator-id-4\" type=\"checkbox\" checked><label for=\"sk-estimator-id-4\" class=\"sk-toggleable__label sk-toggleable__label-arrow\">SVC</label><div class=\"sk-toggleable__content\"><pre>SVC(C=1000, gamma=0.01)</pre></div></div></div></div></div>"
      ],
      "text/plain": [
       "SVC(C=1000, gamma=0.01)"
      ]
     },
     "execution_count": 61,
     "metadata": {},
     "output_type": "execute_result"
    }
   ],
   "source": [
    "from sklearn.svm import SVC\n",
    "svc= SVC(kernel='rbf',C=1000,gamma=0.01)\n",
    "svc.fit(x_train,y_train)"
   ]
  },
  {
   "cell_type": "code",
   "execution_count": 62,
   "metadata": {
    "executionInfo": {
     "elapsed": 1372,
     "status": "ok",
     "timestamp": 1696177727510,
     "user": {
      "displayName": "CHINMAYA KUMAR PALO",
      "userId": "02836757995076046470"
     },
     "user_tz": -330
    },
    "id": "XJ_QYhjQ1mtn"
   },
   "outputs": [],
   "source": [
    "ypred3=svc.predict(x_test)"
   ]
  },
  {
   "cell_type": "code",
   "execution_count": 63,
   "metadata": {
    "colab": {
     "base_uri": "https://localhost:8080/"
    },
    "executionInfo": {
     "elapsed": 142,
     "status": "ok",
     "timestamp": 1696177727510,
     "user": {
      "displayName": "CHINMAYA KUMAR PALO",
      "userId": "02836757995076046470"
     },
     "user_tz": -330
    },
    "id": "Y-Hf1FKi1phO",
    "outputId": "f8744cb0-94a2-4553-dad7-98431150350b"
   },
   "outputs": [
    {
     "data": {
      "text/plain": [
       "96.26998223801066"
      ]
     },
     "execution_count": 63,
     "metadata": {},
     "output_type": "execute_result"
    }
   ],
   "source": [
    "from sklearn.metrics import accuracy_score,recall_score,precision_score,f1_score\n",
    "accuracy=accuracy_score(ypred3,y_test)\n",
    "accuracy*100"
   ]
  },
  {
   "cell_type": "code",
   "execution_count": 64,
   "metadata": {
    "executionInfo": {
     "elapsed": 136,
     "status": "ok",
     "timestamp": 1696177727510,
     "user": {
      "displayName": "CHINMAYA KUMAR PALO",
      "userId": "02836757995076046470"
     },
     "user_tz": -330
    },
    "id": "y59NEDU81vnI"
   },
   "outputs": [],
   "source": [
    "from sklearn.metrics import confusion_matrix,ConfusionMatrixDisplay\n",
    "cm=confusion_matrix(y_test,ypred3)\n",
    "cmd=ConfusionMatrixDisplay(cm)"
   ]
  },
  {
   "cell_type": "code",
   "execution_count": 65,
   "metadata": {
    "colab": {
     "base_uri": "https://localhost:8080/"
    },
    "executionInfo": {
     "elapsed": 135,
     "status": "ok",
     "timestamp": 1696177727510,
     "user": {
      "displayName": "CHINMAYA KUMAR PALO",
      "userId": "02836757995076046470"
     },
     "user_tz": -330
    },
    "id": "TIDjxcD31ybn",
    "outputId": "a6b52d82-36fb-4dd6-a8e9-ad6124ef7625"
   },
   "outputs": [
    {
     "data": {
      "text/plain": [
       "array([[ 126,    0,    0,    0,    0,    0],\n",
       "       [   0, 1202,    0,   47,    0,    1],\n",
       "       [   0,   13,  259,    0,    0,    0],\n",
       "       [  11,    4,    0,  776,    0,    0],\n",
       "       [   0,    0,    0,    0,  134,   14],\n",
       "       [   0,    0,   15,    0,    0,  213]])"
      ]
     },
     "execution_count": 65,
     "metadata": {},
     "output_type": "execute_result"
    }
   ],
   "source": [
    "cm"
   ]
  },
  {
   "cell_type": "code",
   "execution_count": 66,
   "metadata": {
    "colab": {
     "base_uri": "https://localhost:8080/",
     "height": 449
    },
    "executionInfo": {
     "elapsed": 133,
     "status": "ok",
     "timestamp": 1696177727510,
     "user": {
      "displayName": "CHINMAYA KUMAR PALO",
      "userId": "02836757995076046470"
     },
     "user_tz": -330
    },
    "id": "LmeQU56m1zWj",
    "outputId": "06ba58c0-cbd2-42fd-abb6-16afcf5830f8"
   },
   "outputs": [
    {
     "data": {
      "image/png": "[encoded data removed]",
      "text/plain": [
       "<Figure size 640x480 with 2 Axes>"
      ]
     },
     "metadata": {},
     "output_type": "display_data"
    }
   ],
   "source": [
    "cmd.plot()\n",
    "plt.show()"
   ]
  },
  {
   "cell_type": "markdown",
   "metadata": {
    "id": "lihb2wH6GIyu"
   },
   "source": [
    "# Prediction"
   ]
  },
  {
   "cell_type": "code",
   "execution_count": 67,
   "metadata": {
    "colab": {
     "base_uri": "https://localhost:8080/"
    },
    "executionInfo": {
     "elapsed": 100,
     "status": "ok",
     "timestamp": 1696178865780,
     "user": {
      "displayName": "CHINMAYA KUMAR PALO",
      "userId": "02836757995076046470"
     },
     "user_tz": -330
    },
    "id": "7NqgmreXGHcU",
    "outputId": "71756160-2b76-4b6a-96e0-f06d93985446"
   },
   "outputs": [
    {
     "data": {
      "text/plain": [
       "array(['Moderate'], dtype=object)"
      ]
     },
     "execution_count": 67,
     "metadata": {},
     "output_type": "execute_result"
    }
   ],
   "source": [
    "le.inverse_transform(svc.predict([[69.450578,\t0.92,\t18.22,\t17.15,\t0.92,\t20.64,\t113.36,\t0.00000,\t99.463581]]))"
   ]
  },
  {
   "cell_type": "markdown",
   "metadata": {
    "id": "H4fRxs_pCNUP"
   },
   "source": [
    "# Download Model"
   ]
  },
  {
   "cell_type": "code",
   "execution_count": 68,
   "metadata": {
    "executionInfo": {
     "elapsed": 5,
     "status": "ok",
     "timestamp": 1696177751295,
     "user": {
      "displayName": "CHINMAYA KUMAR PALO",
      "userId": "02836757995076046470"
     },
     "user_tz": -330
    },
    "id": "R9NDAidcDW1E"
   },
   "outputs": [],
   "source": [
    "import joblib\n",
    "\n",
    "# Assuming you have a trained LogisticRegression model named 'lr'\n",
    "joblib.dump(lr, 'logistic_model.pkl')\n",
    "loaded_model = joblib.load('logistic_model.pkl')"
   ]
  },
  {
   "cell_type": "code",
   "execution_count": 69,
   "metadata": {
    "executionInfo": {
     "elapsed": 5,
     "status": "ok",
     "timestamp": 1696177952972,
     "user": {
      "displayName": "CHINMAYA KUMAR PALO",
      "userId": "02836757995076046470"
     },
     "user_tz": -330
    },
    "id": "4WkJZkZCEn5_"
   },
   "outputs": [],
   "source": [
    "import joblib\n",
    "\n",
    "# Assuming you have a trained LogisticRegression model named 'lr'\n",
    "joblib.dump(svc, 'svm_model.pkl')\n",
    "loaded_model = joblib.load('svm_model.pkl')"
   ]
  },
  {
   "cell_type": "code",
   "execution_count": 72,
   "metadata": {
    "colab": {
     "base_uri": "https://localhost:8080/"
    },
    "executionInfo": {
     "elapsed": 27135,
     "status": "ok",
     "timestamp": 1696180127301,
     "user": {
      "displayName": "CHINMAYA KUMAR PALO",
      "userId": "02836757995076046470"
     },
     "user_tz": -330
    },
    "id": "QiVoCOJfFY3l",
    "outputId": "47301ae6-81dd-4791-f3c8-9feba6b2668e"
   },
   "outputs": [
    {
     "name": "stdout",
     "output_type": "stream",
     "text": [
      "Enter value for PM2.5: 50\n",
      "Enter value for NO: 20\n",
      "Enter value for NO2: 50\n",
      "Enter value for NOx: 52\n",
      "Enter value for CO: 58\n",
      "Enter value for SO2: 45\n",
      "Enter value for O3: 65\n",
      "Enter value for Benzene: 75\n",
      "Enter value for AQI: 14\n",
      "Predicted Class: 4\n"
     ]
    },
    {
     "name": "stderr",
     "output_type": "stream",
     "text": [
      "/Users/chinmayakumarpalo/anaconda3/lib/python3.10/site-packages/sklearn/base.py:413: UserWarning: X has feature names, but LogisticRegression was fitted without feature names\n",
      "  warnings.warn(\n"
     ]
    }
   ],
   "source": [
    "import joblib\n",
    "import pandas as pd\n",
    "\n",
    "# Load the saved scikit-learn model\n",
    "loaded_model = joblib.load('logistic_model.pkl')\n",
    "\n",
    "# Create a dictionary to store user input for attribute values\n",
    "user_input = {}\n",
    "\n",
    "# List of attributes for prediction\n",
    "attributes = ['PM2.5', 'NO', 'NO2', 'NOx', 'CO', 'SO2', 'O3', 'Benzene', 'AQI']\n",
    "\n",
    "# Collect user input for attribute values\n",
    "for attribute in attributes:\n",
    "    user_input[attribute] = float(input(f\"Enter value for {attribute}: \"))\n",
    "\n",
    "# Create a DataFrame from the user input\n",
    "new_data = pd.DataFrame([user_input])\n",
    "\n",
    "# Use the loaded model to make predictions on the new data\n",
    "predicted_class = loaded_model.predict(new_data)\n",
    "\n",
    "# Print the predicted class\n",
    "print(\"Predicted Class:\", predicted_class[0])\n"
   ]
  },
  {
   "cell_type": "code",
   "execution_count": 71,
   "metadata": {
    "id": "mPyEtknQM01J"
   },
   "outputs": [
    {
     "data": {
      "text/plain": [
       "10035"
      ]
     },
     "execution_count": 71,
     "metadata": {},
     "output_type": "execute_result"
    }
   ],
   "source": [
    "\n"
   ]
  }
 ],
 "metadata": {
  "accelerator": "GPU",
  "colab": {
   "authorship_tag": "ABX9TyNJMytOX6b3XOKbizniGcoL",
   "gpuType": "T4",
   "provenance": []
  },
  "kernelspec": {
   "display_name": "Python 3 (ipykernel)",
   "language": "python",
   "name": "python3"
  },
  "language_info": {
   "codemirror_mode": {
    "name": "ipython",
    "version": 3
   },
   "file_extension": ".py",
   "mimetype": "text/x-python",
   "name": "python",
   "nbconvert_exporter": "python",
   "pygments_lexer": "ipython3",
   "version": "3.10.9"
  }
 },
 "nbformat": 4,
 "nbformat_minor": 1
}
